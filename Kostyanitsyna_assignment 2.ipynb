{
 "cells": [
  {
   "cell_type": "markdown",
   "metadata": {},
   "source": [
    "### Анастасия Костяницына БКЛ-151"
   ]
  },
  {
   "cell_type": "markdown",
   "metadata": {},
   "source": [
    "Продемонстрировать положение No Free Lunch Theorem. (см материалы семинара)\n",
    "Качество работы оценивается по accuracy на тестовой выборке согласно пайплайну (см материалы семинара). Метод валидации (если вы его применяете) 5-fold cv.\n",
    "В выводе для каждой модели указать какие предположения она делает относительно данных. В выводе указать почему модель плохо / хорошо работает на сгенерированной вами выборке. Использовать пространство признаков размерности 2 при классификации и размерности 1 при регрессии. При возможности, нарисовать выборку на графике (цветами обозначить классы).\n",
    "\n",
    "#### Сгенерировать датасет для задачи бинарной классификации (binary crossentropy), на котором метод ближайших соседей работает хуже, чем логистическая регрессия."
   ]
  },
  {
   "cell_type": "code",
   "execution_count": 1,
   "metadata": {},
   "outputs": [],
   "source": [
    "from sklearn.neighbors import KNeighborsClassifier\n",
    "from sklearn.linear_model import LogisticRegression"
   ]
  },
  {
   "cell_type": "code",
   "execution_count": 58,
   "metadata": {},
   "outputs": [],
   "source": [
    "import numpy as np\n",
    "import matplotlib.pyplot as plt\n",
    "from sklearn.datasets import make_circles\n",
    "from sklearn.metrics import mean_squared_error, make_scorer\n",
    "import warnings\n",
    "warnings.filterwarnings('ignore')"
   ]
  },
  {
   "cell_type": "code",
   "execution_count": 3,
   "metadata": {},
   "outputs": [],
   "source": [
    "from sklearn.model_selection import train_test_split"
   ]
  },
  {
   "cell_type": "code",
   "execution_count": 4,
   "metadata": {},
   "outputs": [],
   "source": [
    "from sklearn.model_selection import cross_val_score"
   ]
  },
  {
   "cell_type": "markdown",
   "metadata": {},
   "source": [
    "#### Making data"
   ]
  },
  {
   "cell_type": "code",
   "execution_count": 5,
   "metadata": {},
   "outputs": [],
   "source": [
    "def func(x, k, b):\n",
    "    return k*x + b"
   ]
  },
  {
   "cell_type": "code",
   "execution_count": 6,
   "metadata": {},
   "outputs": [],
   "source": [
    "k = 10\n",
    "X = []\n",
    "y = []\n",
    "\n",
    "for i in range(1, k + 1):\n",
    "    \n",
    "    X.append([i, func(i, 8, 10)])\n",
    "    y.append(1)\n",
    "    X.append([i + 1, func(i, 8, 10)])\n",
    "    y.append(0)\n",
    "\n",
    "x_train, x_test, y_train, y_test = train_test_split(X, y, test_size=0.3, random_state=42)"
   ]
  },
  {
   "cell_type": "markdown",
   "metadata": {},
   "source": [
    "## Data"
   ]
  },
  {
   "cell_type": "code",
   "execution_count": 7,
   "metadata": {},
   "outputs": [],
   "source": [
    "def my_plot(x_train, y_train, x_test):\n",
    "    plt.plot([item[0] for index, item in enumerate(x_train) if y_train[index] == 1],\n",
    "         [item[1] for index, item in enumerate(x_train) if y_train[index] == 1], \n",
    "         'o', label='type 1')\n",
    "    plt.plot([item[0] for index, item in enumerate(x_train) if y_train[index] == 0],\n",
    "         [item[1] for index, item in enumerate(x_train) if y_train[index] == 0], \n",
    "         'o', label='type 2')\n",
    "    plt.plot([item[0] for item in x_test], [item[1] for item in x_test], 'o', label='test')\n",
    "    plt.legend()\n",
    "    plt.show()"
   ]
  },
  {
   "cell_type": "code",
   "execution_count": 8,
   "metadata": {},
   "outputs": [
    {
     "data": {
      "image/png": "[encoded data removed]",
      "text/plain": [
       "<Figure size 432x288 with 1 Axes>"
      ]
     },
     "metadata": {
      "needs_background": "light"
     },
     "output_type": "display_data"
    }
   ],
   "source": [
    "my_plot(x_train, y_train, x_test)"
   ]
  },
  {
   "cell_type": "markdown",
   "metadata": {},
   "source": [
    "## KNN"
   ]
  },
  {
   "cell_type": "code",
   "execution_count": 9,
   "metadata": {},
   "outputs": [],
   "source": [
    "def knn(x_train, y_train, x_test, y_test, p=2, metric='minkowski'):\n",
    "    clf_k = KNeighborsClassifier(n_neighbors=3, p=p, metric=metric)\n",
    "    clf_k.fit(x_train, y_train) \n",
    "    res = clf_k.predict(x_test)\n",
    "    acc = clf_k.score(x_test, y_test)\n",
    "    return clf_k, res, acc"
   ]
  },
  {
   "cell_type": "code",
   "execution_count": 10,
   "metadata": {},
   "outputs": [
    {
     "data": {
      "text/plain": [
       "array([1, 1, 1, 1, 0, 1])"
      ]
     },
     "execution_count": 10,
     "metadata": {},
     "output_type": "execute_result"
    }
   ],
   "source": [
    "clf = knn(x_train, y_train, x_test, y_test)\n",
    "clf[1]"
   ]
  },
  {
   "cell_type": "code",
   "execution_count": 11,
   "metadata": {},
   "outputs": [
    {
     "name": "stdout",
     "output_type": "stream",
     "text": [
      "accuracy: 0.16666666666666666\n"
     ]
    }
   ],
   "source": [
    "print('accuracy: ' + str(clf[2]))"
   ]
  },
  {
   "cell_type": "code",
   "execution_count": 12,
   "metadata": {},
   "outputs": [
    {
     "name": "stdout",
     "output_type": "stream",
     "text": [
      "mean CV score: 0.2\n"
     ]
    }
   ],
   "source": [
    "print('mean CV score: ' + str(np.mean(cross_val_score(clf[0], X, y,\n",
    "                                                      cv=5, scoring='accuracy'))))"
   ]
  },
  {
   "cell_type": "markdown",
   "metadata": {},
   "source": [
    "## LogisticRegression"
   ]
  },
  {
   "cell_type": "code",
   "execution_count": 13,
   "metadata": {},
   "outputs": [],
   "source": [
    "def logreg(x_train, y_train, x_test, y_test):\n",
    "    clf_r = LogisticRegression()\n",
    "    clf_r.fit(x_train, y_train) \n",
    "    res = clf_r.predict(x_test)\n",
    "    acc = clf_r.score(x_test, y_test)\n",
    "    return clf_r, res, acc"
   ]
  },
  {
   "cell_type": "code",
   "execution_count": 14,
   "metadata": {},
   "outputs": [
    {
     "data": {
      "text/plain": [
       "array([1, 0, 0, 0, 1, 0])"
      ]
     },
     "execution_count": 14,
     "metadata": {},
     "output_type": "execute_result"
    }
   ],
   "source": [
    "clf = logreg(x_train, y_train, x_test, y_test)\n",
    "clf[1]"
   ]
  },
  {
   "cell_type": "code",
   "execution_count": 15,
   "metadata": {},
   "outputs": [
    {
     "name": "stdout",
     "output_type": "stream",
     "text": [
      "accuracy: 1.0\n"
     ]
    }
   ],
   "source": [
    "print('accuracy: ' + str(clf[2]))"
   ]
  },
  {
   "cell_type": "code",
   "execution_count": 16,
   "metadata": {},
   "outputs": [
    {
     "name": "stdout",
     "output_type": "stream",
     "text": [
      "mean CV score: 1.0\n"
     ]
    }
   ],
   "source": [
    "print('mean CV score: ' + str(np.mean(cross_val_score(clf[0], X, y,\n",
    "                                                      cv=5, scoring='accuracy'))))"
   ]
  },
  {
   "cell_type": "markdown",
   "metadata": {},
   "source": [
    "Метод близжайших соседей показывает себя плохо на данном примере, так как расстояние от тестовой точки до представителя его класса больше, чем до представителя другого класса, поэтому происходит неверная классификация (при поиске соседей в радиус поиска попадают представители другого класса). При этом линейный классификатор с легкостью строит разделяющую поверхность."
   ]
  },
  {
   "cell_type": "markdown",
   "metadata": {},
   "source": [
    "#### Сгенерировать датасет для задачи бинарной классификации (binary crossentropy), на котором логистическая регрессия работает хуже, чем метод ближайших соседей."
   ]
  },
  {
   "cell_type": "code",
   "execution_count": 20,
   "metadata": {},
   "outputs": [],
   "source": [
    "X_c, y_c = make_circles(n_samples=100, noise=0.05, random_state=42)"
   ]
  },
  {
   "cell_type": "code",
   "execution_count": 21,
   "metadata": {},
   "outputs": [],
   "source": [
    "x_train_c, x_test_c, y_train_c, y_test_c = train_test_split(X_c, y_c, \n",
    "                                                            test_size=0.3,\n",
    "                                                            random_state=42)"
   ]
  },
  {
   "cell_type": "code",
   "execution_count": 22,
   "metadata": {},
   "outputs": [
    {
     "data": {
      "image/png": "[encoded data removed]",
      "text/plain": [
       "<Figure size 432x288 with 1 Axes>"
      ]
     },
     "metadata": {
      "needs_background": "light"
     },
     "output_type": "display_data"
    }
   ],
   "source": [
    "my_plot(x_train_c, y_train_c, x_test_c)"
   ]
  },
  {
   "cell_type": "markdown",
   "metadata": {},
   "source": [
    "## KNN"
   ]
  },
  {
   "cell_type": "code",
   "execution_count": 23,
   "metadata": {},
   "outputs": [
    {
     "data": {
      "text/plain": [
       "array([0, 1, 1, 0, 1, 0, 1, 1, 0, 1, 0, 0, 1, 1, 1, 0, 1, 0, 1, 1, 1, 0,\n",
       "       0, 0, 1, 0, 1, 1, 1, 1])"
      ]
     },
     "execution_count": 23,
     "metadata": {},
     "output_type": "execute_result"
    }
   ],
   "source": [
    "clf = knn(x_train_c, y_train_c, x_test_c, y_test_c)\n",
    "clf[1]"
   ]
  },
  {
   "cell_type": "code",
   "execution_count": 24,
   "metadata": {},
   "outputs": [
    {
     "name": "stdout",
     "output_type": "stream",
     "text": [
      "accuracy: 0.7333333333333333\n"
     ]
    }
   ],
   "source": [
    "print('accuracy: ' + str(clf[2]))"
   ]
  },
  {
   "cell_type": "code",
   "execution_count": 25,
   "metadata": {},
   "outputs": [
    {
     "name": "stdout",
     "output_type": "stream",
     "text": [
      "mean CV score: 0.78\n"
     ]
    }
   ],
   "source": [
    "print('mean CV score: ' + str(np.mean(cross_val_score(clf[0], X_c, y_c, \n",
    "                                                      cv=5, scoring='accuracy'))))"
   ]
  },
  {
   "cell_type": "markdown",
   "metadata": {},
   "source": [
    "## LogisticRegression"
   ]
  },
  {
   "cell_type": "code",
   "execution_count": 26,
   "metadata": {},
   "outputs": [
    {
     "data": {
      "text/plain": [
       "array([1, 1, 1, 1, 1, 1, 1, 1, 1, 1, 1, 1, 1, 1, 1, 1, 1, 1, 1, 1, 1, 1,\n",
       "       1, 1, 1, 1, 1, 1, 1, 1])"
      ]
     },
     "execution_count": 26,
     "metadata": {},
     "output_type": "execute_result"
    }
   ],
   "source": [
    "clf = logreg(x_train_c, y_train_c, x_test_c, y_test_c)\n",
    "clf[1]"
   ]
  },
  {
   "cell_type": "code",
   "execution_count": 27,
   "metadata": {},
   "outputs": [
    {
     "name": "stdout",
     "output_type": "stream",
     "text": [
      "accuracy: 0.3333333333333333\n"
     ]
    }
   ],
   "source": [
    "print('accuracy: ' + str(clf[2]))"
   ]
  },
  {
   "cell_type": "code",
   "execution_count": 28,
   "metadata": {},
   "outputs": [
    {
     "name": "stdout",
     "output_type": "stream",
     "text": [
      "mean CV score: 0.42000000000000004\n"
     ]
    }
   ],
   "source": [
    "print('mean CV score: ' + str(np.mean(cross_val_score(clf[0], X_c, y_c,\n",
    "                                                      cv=5, scoring='accuracy'))))"
   ]
  },
  {
   "cell_type": "markdown",
   "metadata": {},
   "source": [
    "Здесь данные линейно неразделимы, поэтому линейному классификатору сложно построить разделюящую плоскость. Можно использовать полиномиальные признаки для того, чтобы линейный классификатор мог строить нелинейные разделяющие поверхности."
   ]
  },
  {
   "cell_type": "markdown",
   "metadata": {},
   "source": [
    "### Сгенерировать датасет для задачи бинарной классификации (binary crossentropy), на котором метод ближайших соседей с косинусной метрикой расстояния работает лучше, чем с евклидовой метрикой."
   ]
  },
  {
   "cell_type": "code",
   "execution_count": 29,
   "metadata": {},
   "outputs": [],
   "source": [
    "from scipy import spatial"
   ]
  },
  {
   "cell_type": "markdown",
   "metadata": {},
   "source": [
    "Используем датасет из первого задания"
   ]
  },
  {
   "cell_type": "markdown",
   "metadata": {},
   "source": [
    "## KNN + косинусная близость"
   ]
  },
  {
   "cell_type": "code",
   "execution_count": 30,
   "metadata": {},
   "outputs": [
    {
     "data": {
      "text/plain": [
       "array([1, 0, 0, 1, 1, 0])"
      ]
     },
     "execution_count": 30,
     "metadata": {},
     "output_type": "execute_result"
    }
   ],
   "source": [
    "clf = knn(x_train, y_train, x_test, y_test, metric=spatial.distance.cosine)\n",
    "clf[1]"
   ]
  },
  {
   "cell_type": "code",
   "execution_count": 31,
   "metadata": {
    "scrolled": false
   },
   "outputs": [
    {
     "name": "stdout",
     "output_type": "stream",
     "text": [
      "accuracy: 0.8333333333333334\n"
     ]
    }
   ],
   "source": [
    "print('accuracy: ' + str(clf[2]))"
   ]
  },
  {
   "cell_type": "code",
   "execution_count": 32,
   "metadata": {},
   "outputs": [
    {
     "name": "stdout",
     "output_type": "stream",
     "text": [
      "mean CV score: 0.9\n"
     ]
    }
   ],
   "source": [
    "print('mean CV score: ' + str(np.mean(cross_val_score(clf[0], X, y,\n",
    "                                                      cv=5, scoring='accuracy'))))"
   ]
  },
  {
   "cell_type": "markdown",
   "metadata": {},
   "source": [
    "## KNN + евклидово расстояние"
   ]
  },
  {
   "cell_type": "code",
   "execution_count": 33,
   "metadata": {},
   "outputs": [
    {
     "data": {
      "text/plain": [
       "array([1, 1, 1, 1, 0, 1])"
      ]
     },
     "execution_count": 33,
     "metadata": {},
     "output_type": "execute_result"
    }
   ],
   "source": [
    "clf = knn(x_train, y_train, x_test, y_test, metric='euclidean')\n",
    "clf[1]"
   ]
  },
  {
   "cell_type": "code",
   "execution_count": 34,
   "metadata": {},
   "outputs": [
    {
     "name": "stdout",
     "output_type": "stream",
     "text": [
      "accuracy: 0.16666666666666666\n"
     ]
    }
   ],
   "source": [
    "print('accuracy: ' + str(clf[2]))"
   ]
  },
  {
   "cell_type": "code",
   "execution_count": 35,
   "metadata": {},
   "outputs": [
    {
     "name": "stdout",
     "output_type": "stream",
     "text": [
      "mean CV score: 0.2\n"
     ]
    }
   ],
   "source": [
    "print('mean CV score: ' + str(np.mean(cross_val_score(clf[0], X, y,\n",
    "                                                      cv=5, scoring='accuracy'))))"
   ]
  },
  {
   "cell_type": "markdown",
   "metadata": {},
   "source": [
    "Косинусная близость смотрит на угол межу двумя точками, так как данные лежат на одной прямой, угол между представителями одного класса меньше, чем между разными. В данном случае величина векторов не имеет значения, так как векторы объектов схожи. Примером такого типа данных могут быть тексты. Например, у нас есть корпус текстов разной длины. На косинусную близость длина не влияет, поэтому схожие тексты классицируются одинаково. "
   ]
  },
  {
   "cell_type": "markdown",
   "metadata": {},
   "source": [
    "### Сгенерировать датасет для задачи регрессии (MSE), на котором решающее дерево работает хуже, чем линейная регрессия."
   ]
  },
  {
   "cell_type": "code",
   "execution_count": 36,
   "metadata": {},
   "outputs": [],
   "source": [
    "from sklearn.linear_model import LinearRegression\n",
    "from sklearn.tree import DecisionTreeRegressor\n",
    "from sklearn.datasets import make_regression"
   ]
  },
  {
   "cell_type": "code",
   "execution_count": 7,
   "metadata": {},
   "outputs": [],
   "source": [
    "X_r, y_r = make_regression(n_samples=100, n_features=1, noise=20)"
   ]
  },
  {
   "cell_type": "code",
   "execution_count": 38,
   "metadata": {},
   "outputs": [],
   "source": [
    "import random"
   ]
  },
  {
   "cell_type": "code",
   "execution_count": 39,
   "metadata": {},
   "outputs": [],
   "source": [
    "k = 100\n",
    "X_r = []\n",
    "y_r = []\n",
    "\n",
    "for i in range(1, k + 1):\n",
    "    X_r.append([i])\n",
    "    y_r.append(func(i, 8, 10))\n",
    "\n",
    "\n",
    "for i in random.sample([i for i in range(k)],  k//7):\n",
    "    if i % 2 == 0:\n",
    "        x = i - random.randint(1, k//8)\n",
    "        X_r.append([x])\n",
    "        y_r.append(func(x, random.randint(1, k//10), random.randint(1, k//10)))\n",
    "    else:\n",
    "        x = i + random.randint(1, k//8)\n",
    "        X_r.append([x])\n",
    "        y_r.append(func(x, random.randint(1, k//10), random.randint(1, k/10)))"
   ]
  },
  {
   "cell_type": "code",
   "execution_count": 40,
   "metadata": {},
   "outputs": [
    {
     "data": {
      "image/png": "[encoded data removed]",
      "text/plain": [
       "<Figure size 432x288 with 1 Axes>"
      ]
     },
     "metadata": {
      "needs_background": "light"
     },
     "output_type": "display_data"
    }
   ],
   "source": [
    "plt.scatter(X_r, y_r)\n",
    "plt.show()"
   ]
  },
  {
   "cell_type": "code",
   "execution_count": 41,
   "metadata": {},
   "outputs": [],
   "source": [
    "x_train_r, x_test_r, y_train_r, y_test_r = train_test_split(X_r, y_r, test_size=0.3,\n",
    "                                                            random_state=42)"
   ]
  },
  {
   "cell_type": "markdown",
   "metadata": {},
   "source": [
    "### DecisionTreeRegressor"
   ]
  },
  {
   "cell_type": "code",
   "execution_count": 63,
   "metadata": {},
   "outputs": [],
   "source": [
    "tree = DecisionTreeRegressor()"
   ]
  },
  {
   "cell_type": "code",
   "execution_count": 64,
   "metadata": {},
   "outputs": [],
   "source": [
    "tree.fit(x_train_r, y_train_r)\n",
    "res_t = tree.predict(x_test_r)"
   ]
  },
  {
   "cell_type": "code",
   "execution_count": 65,
   "metadata": {},
   "outputs": [
    {
     "data": {
      "text/plain": [
       "array([650. ,  42. , 330. , 562. ,  82. , 386. , 619.5, 538. , 386. ,\n",
       "       122. , 794. , 298. , 674. , 706. , 154. ,  26. , 298. ,  31. ,\n",
       "       674. , 247.5, 298. , 738. , 122. , 274. , 562. , 330. , 386. ,\n",
       "       186. , 362. , 282. , 634. , 143.5, 250. , 698. ,  82. ])"
      ]
     },
     "execution_count": 65,
     "metadata": {},
     "output_type": "execute_result"
    }
   ],
   "source": [
    "res_t"
   ]
  },
  {
   "cell_type": "code",
   "execution_count": 66,
   "metadata": {},
   "outputs": [
    {
     "name": "stdout",
     "output_type": "stream",
     "text": [
      "mean CV score: 38919.43913043478\n"
     ]
    }
   ],
   "source": [
    "print('mean CV score: ' + str(np.mean(cross_val_score(tree, X_r,\n",
    "                                                      y_r, cv=5,\n",
    "                                                      scoring=make_scorer(mean_squared_error)))))\n"
   ]
  },
  {
   "cell_type": "markdown",
   "metadata": {},
   "source": [
    "### LinearRegression"
   ]
  },
  {
   "cell_type": "code",
   "execution_count": 67,
   "metadata": {},
   "outputs": [],
   "source": [
    "lin = LinearRegression()\n",
    "lin.fit(x_train_r, y_train_r)\n",
    "res_l = lin.predict(x_test_r)"
   ]
  },
  {
   "cell_type": "code",
   "execution_count": 68,
   "metadata": {},
   "outputs": [
    {
     "data": {
      "text/plain": [
       "array([630.81274514,  53.86394781, 327.15548339, 547.30699816,\n",
       "        99.41253708, 365.11264111, 554.8984297 , 524.53270353,\n",
       "       380.2955042 , 107.00396862, 767.45851293, 296.78975721,\n",
       "       653.58703977, 676.3613344 , 160.14398943,  23.49822164,\n",
       "       570.08129279, 220.87544178, 638.40417669, 425.84409346,\n",
       "       296.78975721, 714.31849212, 114.59540016, 258.8325995 ,\n",
       "       532.12413507, 327.15548339, 372.70407265, 190.5097156 ,\n",
       "       357.52120956, 274.01546258, 615.62988205, 137.36969479,\n",
       "       251.24116795, 668.76990286,  91.82110553])"
      ]
     },
     "execution_count": 68,
     "metadata": {},
     "output_type": "execute_result"
    }
   ],
   "source": [
    "res_l"
   ]
  },
  {
   "cell_type": "code",
   "execution_count": 69,
   "metadata": {},
   "outputs": [
    {
     "name": "stdout",
     "output_type": "stream",
     "text": [
      "mean CV score: 7008.875638099712\n"
     ]
    }
   ],
   "source": [
    "print('mean CV score: ' + str(np.mean(cross_val_score(lin, X_r, \n",
    "                                                      y_r, cv=5,\n",
    "                                                     scoring=make_scorer(mean_squared_error)))))"
   ]
  },
  {
   "cell_type": "markdown",
   "metadata": {},
   "source": [
    "Линейные модели показывают себя лучше на линейных данных (как в нашем случае). LinearRegression строит линейную границу, а DecisionTreeRegressor пытается поделить данные на части."
   ]
  },
  {
   "cell_type": "code",
   "execution_count": 74,
   "metadata": {},
   "outputs": [
    {
     "data": {
      "image/png": "[encoded data removed]",
      "text/plain": [
       "<Figure size 1080x720 with 1 Axes>"
      ]
     },
     "metadata": {
      "needs_background": "light"
     },
     "output_type": "display_data"
    }
   ],
   "source": [
    "# Plot the results\n",
    "plt.figure(figsize=(15, 10))\n",
    "plt.scatter(X_r, y_r, s=20,\n",
    "            c=\"darkorange\", label=\"data\")\n",
    "plt.scatter(x_test_r, y_test_r,  color='black')\n",
    "plt.plot(x_test_r, res_t, color=\"cornflowerblue\")\n",
    "plt.title(\"Decision Tree Regression\")\n",
    "plt.legend()\n",
    "plt.show()"
   ]
  },
  {
   "cell_type": "code",
   "execution_count": 71,
   "metadata": {},
   "outputs": [
    {
     "data": {
      "image/png": "[encoded data removed]",
      "text/plain": [
       "<Figure size 432x288 with 1 Axes>"
      ]
     },
     "metadata": {},
     "output_type": "display_data"
    }
   ],
   "source": [
    "plt.scatter(X_r, y_r,  color='pink')\n",
    "plt.scatter(x_test_r, y_test_r,  color='black')\n",
    "plt.plot(x_test_r, res_l, color='blue', linewidth=3)\n",
    "plt.title(\"LinearRegression\")\n",
    "plt.xticks(())\n",
    "plt.yticks(())\n",
    "\n",
    "plt.show()"
   ]
  },
  {
   "cell_type": "code",
   "execution_count": null,
   "metadata": {},
   "outputs": [],
   "source": []
  }
 ],
 "metadata": {
  "kernelspec": {
   "display_name": "Python 3",
   "language": "python",
   "name": "python3"
  },
  "language_info": {
   "codemirror_mode": {
    "name": "ipython",
    "version": 3
   },
   "file_extension": ".py",
   "mimetype": "text/x-python",
   "name": "python",
   "nbconvert_exporter": "python",
   "pygments_lexer": "ipython3",
   "version": "3.6.5"
  }
 },
 "nbformat": 4,
 "nbformat_minor": 2
}
