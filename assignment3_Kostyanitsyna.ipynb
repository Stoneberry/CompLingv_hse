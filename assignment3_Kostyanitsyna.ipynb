{
 "cells": [
  {
   "cell_type": "markdown",
   "metadata": {},
   "source": [
    "# Assignment 3\n",
    "\n",
    "\n",
    "1. Implement linear regression model for multiclass classification using pytorch.  \n",
    "1. Implement multinomial and one-vs-rest variants on multiclass classification.\n",
    "1. Implement L2 relularization for your model.  \n",
    "1. Test your model on 20newsgroups dataset. Your baseline is accuracy=0.75. \n",
    "1. How can we justify using accuracy score for this problem?\n",
    "1. What is acuraccy score for random answer for this problem?\n",
    "\n",
    "Follow #TODO in the code below.   \n",
    "Feel free to add additional regularizers to your model.  \n",
    "Remember, that SGD convergence is slower that lbfgs from scikit-learn. Manage your time. \n",
    "\n",
    "\n",
    "Usefull links:  \n",
    "1. https://pytorch.org/\n",
    "1. https://gluon.mxnet.io/chapter06_optimization/gd-sgd-scratch.html\n",
    "1. (bonus) http://ruder.io/optimizing-gradient-descent/\n"
   ]
  },
  {
   "cell_type": "code",
   "execution_count": 1,
   "metadata": {},
   "outputs": [],
   "source": [
    "import torch as  tt\n",
    "from torch.optim import SGD\n",
    "from torch import nn\n",
    "import torch.nn.functional as F\n",
    "import numpy as np\n",
    "from tqdm import tqdm_notebook\n",
    "import matplotlib.pyplot as plt\n",
    "from sklearn import metrics\n",
    "from scipy import sparse\n",
    "from sklearn.base import BaseEstimator, ClassifierMixin\n",
    "from sklearn.preprocessing import normalize\n",
    "\n",
    "%matplotlib inline\n",
    "\n",
    "SEED = 42\n",
    "np.random.seed(SEED)\n"
   ]
  },
  {
   "cell_type": "code",
   "execution_count": 2,
   "metadata": {},
   "outputs": [],
   "source": [
    "from sklearn.externals import joblib \n",
    "import numpy as np\n",
    "import torch\n",
    "import math\n",
    "from copy import copy\n",
    "from sklearn.preprocessing import LabelBinarizer, LabelEncoder\n",
    "import scipy\n",
    "from sklearn.model_selection import train_test_split\n",
    "from sklearn.feature_extraction.text import TfidfVectorizer\n",
    "\n",
    "data = joblib.load('train.data')\n",
    "\n",
    "from sklearn.datasets import fetch_20newsgroups\n",
    "from sklearn.feature_extraction.text import TfidfVectorizer\n",
    "\n",
    "X = data['data']\n",
    "y = data['target']"
   ]
  },
  {
   "cell_type": "code",
   "execution_count": 45,
   "metadata": {},
   "outputs": [],
   "source": [
    "class LogisticRegressionNN(nn.Module):\n",
    "    \"\"\"\n",
    "    All neural networks in pytorch are descendants of nn.Module class\n",
    "    As you remember, Logistic regression is just a 1-layer neural network\n",
    "    #TODO implement multinomial logistic regression\n",
    "    \"\"\"\n",
    "    \n",
    "    def __init__(self, d, k):\n",
    "        \"\"\"\n",
    "        In the constructor we define model weights and layers\n",
    "        d: feature size\n",
    "        k: number of classes\n",
    "        \"\"\"\n",
    "        super(LogisticRegressionNN, self).__init__()\n",
    "        \n",
    "        # TODO create tensor of weights and tensor of biases\n",
    "        # initialize tensors from N(0,1) using np.random.rand\n",
    "        # W has shape (d,k)\n",
    "        # b has shape (d,)\n",
    "        # set requires_grad=True for tensors, so they can be learned during training\n",
    "        self.W = tt.tensor(np.random.rand(d, k), requires_grad=True, dtype=torch.float32)\n",
    "        self.b = tt.tensor(np.random.rand(k), requires_grad=True, dtype=torch.float32)\n",
    "\n",
    "    def forward(self, x):\n",
    "        \"\"\"\n",
    "        In this method we implement connections between neural network weights\n",
    "        x: batch feature matrix\n",
    "        returns: probability logits\n",
    "        \"\"\"\n",
    "        # TODO implement linear model without softmax\n",
    "        result = torch.add(torch.mm(x, self.W), self.b)\n",
    "        return result\n",
    "    \n",
    "    def parameters(self):\n",
    "        \"\"\"\n",
    "        learnable model parameters\n",
    "        \"\"\"\n",
    "        return [self.W, self.b]\n",
    "    \n",
    "    \n",
    "class LogisticRegressionEstimator(BaseEstimator, ClassifierMixin):\n",
    "    \"\"\"\n",
    "    Logistic Regression estimator coping interface from scikit-learn\n",
    "    \"\"\"\n",
    "    def __init__(self, learning_rate=0.2, n_epochs=50, batch_size=100, alpha=1, multi_class='multinomial', verbose=False):\n",
    "        \"\"\"\n",
    "        learning_rate: SGD learning rate\n",
    "        n_epochs: number of epochs\n",
    "        batch_size: size of mini-batch\n",
    "        alpha:  regularizer coef\n",
    "        multi_class: ['multinomial', 'ovr']\n",
    "        verbose:\n",
    "        \"\"\"\n",
    "        self.learning_rate = learning_rate\n",
    "        self.n_epochs = n_epochs\n",
    "        self.alpha = alpha\n",
    "        self.multi_class = multi_class\n",
    "        self.verbose = verbose\n",
    "        self.model_nn = None\n",
    "        self.batch_size = batch_size\n",
    "        \n",
    "    def _train_nn(self, model, X, y):\n",
    "        \"\"\"\n",
    "        Train neural network\n",
    "        model: neural network module\n",
    "        X: - feature matrix\n",
    "        y: - target values\n",
    "        \"\"\"\n",
    "        \n",
    "        criterion = nn.CrossEntropyLoss()\n",
    "        optimizer = tt.optim.SGD(model.parameters(), lr=self.learning_rate)\n",
    "        n_batches = math.ceil(X.shape[0] / self.batch_size)\n",
    "\n",
    "        if self.verbose:\n",
    "            t_epochs = tqdm_notebook(range(self.n_epochs), desc='epochs', leave=True)\n",
    "        else:\n",
    "            t_epochs = range(self.n_epochs)\n",
    "\n",
    "        if sparse.issparse(X):\n",
    "            x_dense = scipy.sparse.csr_matrix.todense(X)\n",
    "        elif isinstance(X, np.ndarray):\n",
    "            x_dense = X\n",
    "        else:\n",
    "            raise ValueError('X must be np.array or sparse')\n",
    "            \n",
    "        for epoch in t_epochs:\n",
    "\n",
    "            indices = np.random.choice(list(range(X.shape[0])), size=X.shape[0])\n",
    "            \n",
    "            epoch_average_loss = 0\n",
    "\n",
    "            for j in range(n_batches):\n",
    "\n",
    "                batch_idx = indices[j: j + self.batch_size]\n",
    "\n",
    "                batch_x = torch.from_numpy(x_dense.take(batch_idx, axis=0)).float() # X должен быть np\n",
    "                batch_y = torch.from_numpy(np.array(y).take(batch_idx)).long() \n",
    "                \n",
    "                optimizer.zero_grad()\n",
    "                pred = model.forward(batch_x)\n",
    "                \n",
    "                loss = criterion(pred, batch_y)\n",
    "\n",
    "                weights = model.parameters()[0]\n",
    "                # alpha/2 * tt.norm(model.W)**2\n",
    "                loss += self.alpha/2 * torch.norm(weights)**2                 \n",
    "\n",
    "                loss.backward()\n",
    "                optimizer.step()\n",
    "\n",
    "                epoch_average_loss += loss.data.detach().item()\n",
    "            \n",
    "            epoch_average_loss /= n_batches\n",
    "            if self.verbose:\n",
    "                t_epochs.set_postfix(loss='%.3f' % epoch_average_loss)\n",
    "        \n",
    "        \n",
    "    def fit(self, X, y):\n",
    "        \"\"\"\n",
    "        X: feature matrix\n",
    "        y: target values\n",
    "        \"\"\"\n",
    "        \n",
    "        n_features = X.shape[1]\n",
    "        self.n_classes_ = len(np.unique(y))\n",
    "        self.label_encoder_ = LabelEncoder()\n",
    "        self.label_binarizer_ = LabelBinarizer(sparse_output=True)\n",
    "        \n",
    "        # binary classification\n",
    "        if self.n_classes_ == 2:\n",
    "            y = self.label_encoder_.fit_transform(y)\n",
    "            self.model_nn = LogisticRegressionNN(n_features, 2)\n",
    "            self._train_nn(self.model_nn, X, y)\n",
    "            \n",
    "        else:\n",
    "            \n",
    "            if self.multi_class == 'multinomial':\n",
    "                y = self.label_encoder_.fit_transform(y)\n",
    "                self.model_nn = LogisticRegressionNN(n_features, self.n_classes_)\n",
    "                self._train_nn(self.model_nn, X, y)\n",
    "    \n",
    "    \n",
    "            # ovr classification\n",
    "            elif self.multi_class == 'ovr':\n",
    "                \n",
    "                if self.verbose:\n",
    "                    t_ovr = tqdm_notebook(range(self.n_classes_), desc='ovr')\n",
    "                else:\n",
    "                    t_ovr = range(self.n_classes_)\n",
    "\n",
    "                Y = self.label_binarizer_.fit_transform(y)\n",
    "                Y = Y.tocsc()\n",
    "               # classes_ = self.label_binarizer_.classes_\n",
    "                columns = (col.toarray().ravel() for col in Y.T)\n",
    "                self.models = []\n",
    "\n",
    "                for index, y_ovr in enumerate(columns):\n",
    "                    self.model_nn = LogisticRegressionNN(n_features, 2)\n",
    "                    self._train_nn(self.model_nn, X, y_ovr)\n",
    "                    self.models.append(self.model_nn)\n",
    "\n",
    "        return self\n",
    "                    \n",
    "    def predict_proba(self, X):\n",
    "        \n",
    "        if sparse.issparse(X):\n",
    "            x_dense = scipy.sparse.csr_matrix.todense(X)\n",
    "            X = tt.from_numpy(x_dense).float()\n",
    "        elif isinstance(X, np.ndarray):\n",
    "            X =  tt.from_numpy(X).float()\n",
    "        else:\n",
    "            raise ValueError('X must be np.array or sparse')\n",
    "        \n",
    "        \n",
    "        if self.n_classes_ == 2:\n",
    "            pred = self.model_nn.forward(X)\n",
    "            pred = tt.softmax(pred, dim=-1)\n",
    "            pred = pred.detach().numpy()\n",
    "            return pred\n",
    "            \n",
    "        else:\n",
    "            if self.multi_class == 'multinomial':\n",
    "                # TODO return class probabilities\n",
    "                pred = self.model_nn.forward(X)\n",
    "                pred = tt.softmax(pred, dim=-1)\n",
    "                pred = pred.detach().numpy()\n",
    "                return pred\n",
    "                \n",
    "            elif self.multi_class == 'ovr':\n",
    "      \n",
    "                res = []\n",
    "                \n",
    "                for est in self.models:\n",
    "                    pred = est.forward(X)\n",
    "                    pred = tt.sigmoid(pred)\n",
    "                    pred = pred.detach().numpy()\n",
    "                    res.append(pred[:, 1])\n",
    "                \n",
    "                res = np.array(res).T\n",
    "                #res /= np.sum(res, axis=1)[:, np.newaxis] \n",
    "                res = normalize(res)\n",
    "                return res\n",
    "            \n",
    "    def predict(self, X):\n",
    "        proba = self.predict_proba(X)\n",
    "        return proba.argmax(axis=1)"
   ]
  },
  {
   "cell_type": "code",
   "execution_count": 4,
   "metadata": {},
   "outputs": [
    {
     "data": {
      "text/plain": [
       "(11314, 9109)"
      ]
     },
     "execution_count": 4,
     "metadata": {},
     "output_type": "execute_result"
    }
   ],
   "source": [
    "tf = TfidfVectorizer(max_features=9109, stop_words='english')\n",
    "X_train = tf.fit_transform(X)\n",
    "X_train.shape"
   ]
  },
  {
   "cell_type": "code",
   "execution_count": 5,
   "metadata": {},
   "outputs": [],
   "source": [
    "data_test = joblib.load('test.data')"
   ]
  },
  {
   "cell_type": "code",
   "execution_count": 6,
   "metadata": {},
   "outputs": [],
   "source": [
    "X_test = tf.transform(data_test['data'])\n",
    "y_test = data_test['target']"
   ]
  },
  {
   "cell_type": "code",
   "execution_count": 7,
   "metadata": {},
   "outputs": [
    {
     "data": {
      "text/plain": [
       "(7532, 9109)"
      ]
     },
     "execution_count": 7,
     "metadata": {},
     "output_type": "execute_result"
    }
   ],
   "source": [
    "X_test.shape"
   ]
  },
  {
   "cell_type": "code",
   "execution_count": 75,
   "metadata": {},
   "outputs": [],
   "source": [
    "def grid_param(learning_rate=0.2, n_epochs=50, batch_size=100, alpha=1, multi_class='multinomial', verbose=True):\n",
    "    \n",
    "    est = LogisticRegressionEstimator(learning_rate=learning_rate, n_epochs=n_epochs, batch_size=batch_size, alpha=alpha, multi_class=multi_class, verbose=verbose)\n",
    "    \n",
    "    global X_train, y, X_test, y_test\n",
    "    est.fit(X_train, y)\n",
    "    y_pred = est.predict(X_test)\n",
    "    return 'acc' + ': ' + str(metrics.accuracy_score(y_test, y_pred))"
   ]
  },
  {
   "cell_type": "markdown",
   "metadata": {},
   "source": [
    "Грид серч в другом ноутбуке (тоже выложила) работал слишком долго (ночь и весь день, и так и не доработал), поэтому я решила сама постепенно перебирать пар-ры, отталкиваясь от того, что хорошо работает"
   ]
  },
  {
   "cell_type": "markdown",
   "metadata": {},
   "source": [
    "### Multinomial"
   ]
  },
  {
   "cell_type": "code",
   "execution_count": 59,
   "metadata": {},
   "outputs": [
    {
     "data": {
      "application/vnd.jupyter.widget-view+json": {
       "model_id": "17102837b69c4e24a458f4b12b92b249",
       "version_major": 2,
       "version_minor": 0
      },
      "text/plain": [
       "HBox(children=(IntProgress(value=0, description='epochs', max=5), HTML(value='')))"
      ]
     },
     "metadata": {},
     "output_type": "display_data"
    },
    {
     "data": {
      "text/plain": [
       "'acc: 0.053372278279341476'"
      ]
     },
     "execution_count": 59,
     "metadata": {},
     "output_type": "execute_result"
    }
   ],
   "source": [
    "grid_param(learning_rate=0.2, n_epochs=5, batch_size=2000, alpha=0.1, multi_class='multinomial')"
   ]
  },
  {
   "cell_type": "code",
   "execution_count": 60,
   "metadata": {},
   "outputs": [
    {
     "data": {
      "application/vnd.jupyter.widget-view+json": {
       "model_id": "01cfe5a48e8c476c8ed7ff6b5687b882",
       "version_major": 2,
       "version_minor": 0
      },
      "text/plain": [
       "HBox(children=(IntProgress(value=0, description='epochs', max=10), HTML(value='')))"
      ]
     },
     "metadata": {},
     "output_type": "display_data"
    },
    {
     "data": {
      "text/plain": [
       "'acc: 0.050982474774296335'"
      ]
     },
     "execution_count": 60,
     "metadata": {},
     "output_type": "execute_result"
    }
   ],
   "source": [
    "grid_param(learning_rate=0.3, n_epochs=10, batch_size=2000, alpha=0.001, multi_class='multinomial')"
   ]
  },
  {
   "cell_type": "code",
   "execution_count": 61,
   "metadata": {},
   "outputs": [
    {
     "data": {
      "application/vnd.jupyter.widget-view+json": {
       "model_id": "7019d740f86b45168d9e406d824c7207",
       "version_major": 2,
       "version_minor": 0
      },
      "text/plain": [
       "HBox(children=(IntProgress(value=0, description='epochs', max=50), HTML(value='')))"
      ]
     },
     "metadata": {},
     "output_type": "display_data"
    },
    {
     "data": {
      "text/plain": [
       "'acc: 0.10183218268720128'"
      ]
     },
     "execution_count": 61,
     "metadata": {},
     "output_type": "execute_result"
    }
   ],
   "source": [
    "grid_param(learning_rate=0.3, n_epochs=50, batch_size=2000, alpha=0.001, multi_class='multinomial')"
   ]
  },
  {
   "cell_type": "code",
   "execution_count": 62,
   "metadata": {},
   "outputs": [
    {
     "data": {
      "application/vnd.jupyter.widget-view+json": {
       "model_id": "6f2a9c2661984180a9fa462156930f8d",
       "version_major": 2,
       "version_minor": 0
      },
      "text/plain": [
       "HBox(children=(IntProgress(value=0, description='epochs', max=80), HTML(value='')))"
      ]
     },
     "metadata": {},
     "output_type": "display_data"
    },
    {
     "data": {
      "text/plain": [
       "'acc: 0.1526818906001062'"
      ]
     },
     "execution_count": 62,
     "metadata": {},
     "output_type": "execute_result"
    }
   ],
   "source": [
    "grid_param(learning_rate=0.3, n_epochs=80, batch_size=2000, alpha=0.001, multi_class='multinomial')"
   ]
  },
  {
   "cell_type": "code",
   "execution_count": 55,
   "metadata": {},
   "outputs": [
    {
     "data": {
      "application/vnd.jupyter.widget-view+json": {
       "model_id": "f25dcb4421584e1788ff1bea683f313e",
       "version_major": 2,
       "version_minor": 0
      },
      "text/plain": [
       "HBox(children=(IntProgress(value=0, description='epochs', max=50), HTML(value='')))"
      ]
     },
     "metadata": {},
     "output_type": "display_data"
    },
    {
     "data": {
      "text/plain": [
       "'acc: 0.11258629845990441'"
      ]
     },
     "execution_count": 55,
     "metadata": {},
     "output_type": "execute_result"
    }
   ],
   "source": [
    "grid_param(learning_rate=0.3, n_epochs=50, batch_size=2000, alpha=0.0001, multi_class='multinomial')"
   ]
  },
  {
   "cell_type": "code",
   "execution_count": 73,
   "metadata": {},
   "outputs": [
    {
     "data": {
      "application/vnd.jupyter.widget-view+json": {
       "model_id": "6c2acc0c3b8d4eeb9ee09df5c31bfdb4",
       "version_major": 2,
       "version_minor": 0
      },
      "text/plain": [
       "HBox(children=(IntProgress(value=0, description='epochs'), HTML(value='')))"
      ]
     },
     "metadata": {},
     "output_type": "display_data"
    },
    {
     "data": {
      "text/plain": [
       "'acc: 0.1775092936802974'"
      ]
     },
     "execution_count": 73,
     "metadata": {},
     "output_type": "execute_result"
    }
   ],
   "source": [
    "grid_param(learning_rate=0.3, n_epochs=100, batch_size=2000, alpha=0.0001, multi_class='multinomial')"
   ]
  },
  {
   "cell_type": "code",
   "execution_count": 74,
   "metadata": {},
   "outputs": [
    {
     "data": {
      "application/vnd.jupyter.widget-view+json": {
       "model_id": "5263ba9354b34721a9dd402d16654c40",
       "version_major": 2,
       "version_minor": 0
      },
      "text/plain": [
       "HBox(children=(IntProgress(value=0, description='epochs', max=500), HTML(value='')))"
      ]
     },
     "metadata": {},
     "output_type": "display_data"
    },
    {
     "data": {
      "text/plain": [
       "'acc: 0.6072756240042485'"
      ]
     },
     "execution_count": 74,
     "metadata": {},
     "output_type": "execute_result"
    }
   ],
   "source": [
    "grid_param(learning_rate=0.3, n_epochs=500, batch_size=2000, alpha=0.0001, multi_class='multinomial')"
   ]
  },
  {
   "cell_type": "code",
   "execution_count": 76,
   "metadata": {},
   "outputs": [
    {
     "data": {
      "application/vnd.jupyter.widget-view+json": {
       "model_id": "31767ba3a0fa4355ae6ebbf1fbac2a8f",
       "version_major": 2,
       "version_minor": 0
      },
      "text/plain": [
       "HBox(children=(IntProgress(value=0, description='epochs', max=1000), HTML(value='')))"
      ]
     },
     "metadata": {},
     "output_type": "display_data"
    },
    {
     "data": {
      "text/plain": [
       "'acc: 0.7270313329792883'"
      ]
     },
     "execution_count": 76,
     "metadata": {},
     "output_type": "execute_result"
    }
   ],
   "source": [
    "grid_param(learning_rate=0.3, n_epochs=1000, batch_size=2000, alpha=0.0001, multi_class='multinomial')"
   ]
  },
  {
   "cell_type": "code",
   "execution_count": 57,
   "metadata": {},
   "outputs": [
    {
     "data": {
      "application/vnd.jupyter.widget-view+json": {
       "model_id": "a2d0d1b2d1074f85b8b6f1b071c0cf3f",
       "version_major": 2,
       "version_minor": 0
      },
      "text/plain": [
       "HBox(children=(IntProgress(value=0, description='epochs', max=2000), HTML(value='')))"
      ]
     },
     "metadata": {},
     "output_type": "display_data"
    },
    {
     "data": {
      "text/plain": [
       "'acc: 0.7736325013276686'"
      ]
     },
     "execution_count": 57,
     "metadata": {},
     "output_type": "execute_result"
    }
   ],
   "source": [
    "grid_param(learning_rate=0.3, n_epochs=2000, batch_size=2000, alpha=0.0001, multi_class='multinomial')"
   ]
  },
  {
   "cell_type": "markdown",
   "metadata": {},
   "source": [
    "Видимо, с ростом кол-ва эпох можно достигнуть более высого результата."
   ]
  },
  {
   "cell_type": "markdown",
   "metadata": {},
   "source": [
    "#### Best params - learning_rate=0.3, n_epochs=2000, batch_size=2000, alpha=0.0001"
   ]
  },
  {
   "cell_type": "markdown",
   "metadata": {},
   "source": [
    "#### Best accuracy - 0.77"
   ]
  },
  {
   "cell_type": "markdown",
   "metadata": {},
   "source": [
    "### OVR"
   ]
  },
  {
   "cell_type": "code",
   "execution_count": 72,
   "metadata": {},
   "outputs": [
    {
     "data": {
      "application/vnd.jupyter.widget-view+json": {
       "model_id": "3814bbae556647339dfb8362de29f418",
       "version_major": 2,
       "version_minor": 0
      },
      "text/plain": [
       "HBox(children=(IntProgress(value=0, description='ovr', max=20), HTML(value='')))"
      ]
     },
     "metadata": {},
     "output_type": "display_data"
    },
    {
     "data": {
      "application/vnd.jupyter.widget-view+json": {
       "model_id": "d23ecfb1020341aa90abfabe045116e0",
       "version_major": 2,
       "version_minor": 0
      },
      "text/plain": [
       "HBox(children=(IntProgress(value=0, description='epochs', max=50), HTML(value='')))"
      ]
     },
     "metadata": {},
     "output_type": "display_data"
    },
    {
     "data": {
      "application/vnd.jupyter.widget-view+json": {
       "model_id": "ecbb97dedcea47d1a3a2597bc01f9d83",
       "version_major": 2,
       "version_minor": 0
      },
      "text/plain": [
       "HBox(children=(IntProgress(value=0, description='epochs', max=50), HTML(value='')))"
      ]
     },
     "metadata": {},
     "output_type": "display_data"
    },
    {
     "data": {
      "application/vnd.jupyter.widget-view+json": {
       "model_id": "1fb2852b184042d6821379f72cf9526a",
       "version_major": 2,
       "version_minor": 0
      },
      "text/plain": [
       "HBox(children=(IntProgress(value=0, description='epochs', max=50), HTML(value='')))"
      ]
     },
     "metadata": {},
     "output_type": "display_data"
    },
    {
     "data": {
      "application/vnd.jupyter.widget-view+json": {
       "model_id": "9c3c7da4d5c8412281ac55142502543f",
       "version_major": 2,
       "version_minor": 0
      },
      "text/plain": [
       "HBox(children=(IntProgress(value=0, description='epochs', max=50), HTML(value='')))"
      ]
     },
     "metadata": {},
     "output_type": "display_data"
    },
    {
     "data": {
      "application/vnd.jupyter.widget-view+json": {
       "model_id": "8ca1b16079e646e3b1527b8dcdff5fda",
       "version_major": 2,
       "version_minor": 0
      },
      "text/plain": [
       "HBox(children=(IntProgress(value=0, description='epochs', max=50), HTML(value='')))"
      ]
     },
     "metadata": {},
     "output_type": "display_data"
    },
    {
     "data": {
      "application/vnd.jupyter.widget-view+json": {
       "model_id": "43a181ce59c94042a1ceaa7d6de77b22",
       "version_major": 2,
       "version_minor": 0
      },
      "text/plain": [
       "HBox(children=(IntProgress(value=0, description='epochs', max=50), HTML(value='')))"
      ]
     },
     "metadata": {},
     "output_type": "display_data"
    },
    {
     "data": {
      "application/vnd.jupyter.widget-view+json": {
       "model_id": "94f8e4646f034d09a6f0d26be7e2b73c",
       "version_major": 2,
       "version_minor": 0
      },
      "text/plain": [
       "HBox(children=(IntProgress(value=0, description='epochs', max=50), HTML(value='')))"
      ]
     },
     "metadata": {},
     "output_type": "display_data"
    },
    {
     "data": {
      "application/vnd.jupyter.widget-view+json": {
       "model_id": "a6eaadb3bc08446fbf1112b257e8b82f",
       "version_major": 2,
       "version_minor": 0
      },
      "text/plain": [
       "HBox(children=(IntProgress(value=0, description='epochs', max=50), HTML(value='')))"
      ]
     },
     "metadata": {},
     "output_type": "display_data"
    },
    {
     "data": {
      "application/vnd.jupyter.widget-view+json": {
       "model_id": "ca749cab600f46dc9f834227472ee1a5",
       "version_major": 2,
       "version_minor": 0
      },
      "text/plain": [
       "HBox(children=(IntProgress(value=0, description='epochs', max=50), HTML(value='')))"
      ]
     },
     "metadata": {},
     "output_type": "display_data"
    },
    {
     "data": {
      "application/vnd.jupyter.widget-view+json": {
       "model_id": "230b0dcd37d54dd58d1d8163d2f064bf",
       "version_major": 2,
       "version_minor": 0
      },
      "text/plain": [
       "HBox(children=(IntProgress(value=0, description='epochs', max=50), HTML(value='')))"
      ]
     },
     "metadata": {},
     "output_type": "display_data"
    },
    {
     "data": {
      "application/vnd.jupyter.widget-view+json": {
       "model_id": "0682228431dd46c49b6bd7d5280494f8",
       "version_major": 2,
       "version_minor": 0
      },
      "text/plain": [
       "HBox(children=(IntProgress(value=0, description='epochs', max=50), HTML(value='')))"
      ]
     },
     "metadata": {},
     "output_type": "display_data"
    },
    {
     "data": {
      "application/vnd.jupyter.widget-view+json": {
       "model_id": "05e35b90a3064af6b31190ab515e6689",
       "version_major": 2,
       "version_minor": 0
      },
      "text/plain": [
       "HBox(children=(IntProgress(value=0, description='epochs', max=50), HTML(value='')))"
      ]
     },
     "metadata": {},
     "output_type": "display_data"
    },
    {
     "data": {
      "application/vnd.jupyter.widget-view+json": {
       "model_id": "96ffc9f810674fe894f96664b18ea016",
       "version_major": 2,
       "version_minor": 0
      },
      "text/plain": [
       "HBox(children=(IntProgress(value=0, description='epochs', max=50), HTML(value='')))"
      ]
     },
     "metadata": {},
     "output_type": "display_data"
    },
    {
     "data": {
      "application/vnd.jupyter.widget-view+json": {
       "model_id": "10a7879d8f35446fb3b25ca9286cb409",
       "version_major": 2,
       "version_minor": 0
      },
      "text/plain": [
       "HBox(children=(IntProgress(value=0, description='epochs', max=50), HTML(value='')))"
      ]
     },
     "metadata": {},
     "output_type": "display_data"
    },
    {
     "data": {
      "application/vnd.jupyter.widget-view+json": {
       "model_id": "5337b29716414d429c82546bfbc4f966",
       "version_major": 2,
       "version_minor": 0
      },
      "text/plain": [
       "HBox(children=(IntProgress(value=0, description='epochs', max=50), HTML(value='')))"
      ]
     },
     "metadata": {},
     "output_type": "display_data"
    },
    {
     "data": {
      "application/vnd.jupyter.widget-view+json": {
       "model_id": "3c8d3971135143b689be36fed1aa747e",
       "version_major": 2,
       "version_minor": 0
      },
      "text/plain": [
       "HBox(children=(IntProgress(value=0, description='epochs', max=50), HTML(value='')))"
      ]
     },
     "metadata": {},
     "output_type": "display_data"
    },
    {
     "data": {
      "application/vnd.jupyter.widget-view+json": {
       "model_id": "85709858aaf14cde96430a8952196b98",
       "version_major": 2,
       "version_minor": 0
      },
      "text/plain": [
       "HBox(children=(IntProgress(value=0, description='epochs', max=50), HTML(value='')))"
      ]
     },
     "metadata": {},
     "output_type": "display_data"
    },
    {
     "data": {
      "application/vnd.jupyter.widget-view+json": {
       "model_id": "e0c71b19cb664160954d3df2906078c9",
       "version_major": 2,
       "version_minor": 0
      },
      "text/plain": [
       "HBox(children=(IntProgress(value=0, description='epochs', max=50), HTML(value='')))"
      ]
     },
     "metadata": {},
     "output_type": "display_data"
    },
    {
     "data": {
      "application/vnd.jupyter.widget-view+json": {
       "model_id": "6cf14006d8af4549b3bb9b9115b07059",
       "version_major": 2,
       "version_minor": 0
      },
      "text/plain": [
       "HBox(children=(IntProgress(value=0, description='epochs', max=50), HTML(value='')))"
      ]
     },
     "metadata": {},
     "output_type": "display_data"
    },
    {
     "data": {
      "application/vnd.jupyter.widget-view+json": {
       "model_id": "bb21140bb6b7472ba537da572af1fc16",
       "version_major": 2,
       "version_minor": 0
      },
      "text/plain": [
       "HBox(children=(IntProgress(value=0, description='epochs', max=50), HTML(value='')))"
      ]
     },
     "metadata": {},
     "output_type": "display_data"
    },
    {
     "data": {
      "text/plain": [
       "'acc: 0.096388741370154'"
      ]
     },
     "execution_count": 72,
     "metadata": {},
     "output_type": "execute_result"
    }
   ],
   "source": [
    "grid_params(learning_rate=0.3, n_epochs=50, batch_size=2000, alpha=0.0001, multi_class='ovr')"
   ]
  },
  {
   "cell_type": "code",
   "execution_count": null,
   "metadata": {},
   "outputs": [],
   "source": [
    "grid_param(learning_rate=0.3, n_epochs=100, batch_size=2000, alpha=0.0001, multi_class='ovr', verbose=False)"
   ]
  },
  {
   "cell_type": "markdown",
   "metadata": {},
   "source": [
    "Не успеваю подобрать лучшие пар-ры к ovr, слишком долго работает"
   ]
  },
  {
   "cell_type": "markdown",
   "metadata": {},
   "source": [
    "### How can we justify using accuracy score for this problem?"
   ]
  },
  {
   "cell_type": "markdown",
   "metadata": {},
   "source": [
    "Accuracy мы можем использовать тогда, когда у нас классы в выборке сбалансированы, потому что, например, если у нас одного класса 99% данных, а другого 1%, мы можем просто всем давать лейбл первого класса и получать accuracy 99%"
   ]
  },
  {
   "cell_type": "code",
   "execution_count": 19,
   "metadata": {},
   "outputs": [],
   "source": [
    "import collections"
   ]
  },
  {
   "cell_type": "code",
   "execution_count": 58,
   "metadata": {},
   "outputs": [],
   "source": [
    "a = collections.Counter(y)"
   ]
  },
  {
   "cell_type": "code",
   "execution_count": 71,
   "metadata": {},
   "outputs": [
    {
     "data": {
      "text/plain": [
       "Text(0,0.5,'Frequency')"
      ]
     },
     "execution_count": 71,
     "metadata": {},
     "output_type": "execute_result"
    },
    {
     "data": {
      "image/png": "[encoded data removed]",
      "text/plain": [
       "<Figure size 432x288 with 1 Axes>"
      ]
     },
     "metadata": {
      "needs_background": "light"
     },
     "output_type": "display_data"
    }
   ],
   "source": [
    "import matplotlib.pyplot as plt\n",
    "\n",
    "plt.bar(a.keys(), a.values(), color='g')\n",
    "plt.xlabel('Class Value')\n",
    "plt.ylabel('Frequency')"
   ]
  },
  {
   "cell_type": "markdown",
   "metadata": {},
   "source": [
    "Как видно на приведенных данных, лейблы достаточно равномерно распределены"
   ]
  },
  {
   "cell_type": "markdown",
   "metadata": {},
   "source": [
    "### What is acuraccy score for random answer for this problem?\n"
   ]
  },
  {
   "cell_type": "code",
   "execution_count": 68,
   "metadata": {},
   "outputs": [
    {
     "name": "stdout",
     "output_type": "stream",
     "text": [
      "acc 0.05284121083377589\n"
     ]
    }
   ],
   "source": [
    "est = LogisticRegressionEstimator(learning_rate=0.1, n_epochs=5, batch_size=1000, alpha=1, multi_class='multinomial')\n",
    "est.fit(X_train, y)\n",
    "y_pred = est.predict(X_test)\n",
    "print('acc', metrics.accuracy_score(y_test, y_pred))"
   ]
  },
  {
   "cell_type": "markdown",
   "metadata": {},
   "source": [
    "Эстиматор с рандомным параметрами работает очень плохо: скор соответсвует случайному попаданию в класс, с таким же успехом мы могли просто присваивать всем один и тот же класс."
   ]
  },
  {
   "cell_type": "code",
   "execution_count": 69,
   "metadata": {},
   "outputs": [
    {
     "name": "stdout",
     "output_type": "stream",
     "text": [
      "acc 0.05164630908125332\n"
     ]
    }
   ],
   "source": [
    "print('acc', metrics.accuracy_score(y_test, [1]*len(y_test)))"
   ]
  }
 ],
 "metadata": {
  "kernelspec": {
   "display_name": "Python 3",
   "language": "python",
   "name": "python3"
  },
  "language_info": {
   "codemirror_mode": {
    "name": "ipython",
    "version": 3
   },
   "file_extension": ".py",
   "mimetype": "text/x-python",
   "name": "python",
   "nbconvert_exporter": "python",
   "pygments_lexer": "ipython3",
   "version": "3.6.5"
  }
 },
 "nbformat": 4,
 "nbformat_minor": 2
}
