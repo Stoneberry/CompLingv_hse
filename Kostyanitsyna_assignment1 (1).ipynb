{
 "cells": [
  {
   "cell_type": "markdown",
   "metadata": {},
   "source": [
    "# Assignment 1"
   ]
  },
  {
   "cell_type": "markdown",
   "metadata": {},
   "source": [
    "1. Реализовать Блум фильтр с помощью битового массива. Например, вы можете использовать Битовые операции или библиотеку bitarray."
   ]
  },
  {
   "cell_type": "code",
   "execution_count": 1,
   "metadata": {},
   "outputs": [],
   "source": [
    "from bitarray import bitarray"
   ]
  },
  {
   "cell_type": "code",
   "execution_count": 2,
   "metadata": {},
   "outputs": [],
   "source": [
    "import random\n",
    "\n",
    "\n",
    "class bloom_filter:\n",
    "\n",
    "    def __init__(self, n, k, N):\n",
    "        \"\"\"\n",
    "        n - number of bits in the array\n",
    "        k - number of hashes\n",
    "        N - array of hashes\n",
    "        \"\"\"\n",
    "        self.arr = bitarray(n)\n",
    "        self.hashes = random.sample(N, k)\n",
    "\n",
    "    def insert(self, elem):\n",
    "        indices = [has(elem) for has in self.hashes]\n",
    "        for ind in indices:\n",
    "            self.arr[ind] = 1\n",
    "\n",
    "    def lookup(self, elem):\n",
    "        indices = [has(elem) for has in self.hashes]\n",
    "        for ind in indices:\n",
    "            if not self.arr[ind]:\n",
    "                return False\n",
    "        return True\n"
   ]
  },
  {
   "cell_type": "markdown",
   "metadata": {},
   "source": [
    "2. Провести численный эксперимент при false postive rate = 0.05, и количестве объектов S = 1 000 000. Убедится, полученные на семинаре оптимальные параметры фильтра позволяют достичь заявленного false positive rate. Посчитать  $\\frac {\\epsilon - \\hat \\epsilon} \\epsilon$, где $\\hat \\epsilon$ - ваша экспериментальная оценка false positive rate. В качестве объектов используйте строки."
   ]
  },
  {
   "cell_type": "code",
   "execution_count": 3,
   "metadata": {},
   "outputs": [],
   "source": [
    "from math import log, e, sqrt"
   ]
  },
  {
   "cell_type": "markdown",
   "metadata": {},
   "source": [
    "Генерируем строчки"
   ]
  },
  {
   "cell_type": "code",
   "execution_count": 101,
   "metadata": {},
   "outputs": [],
   "source": [
    "import random\n",
    "\n",
    "\n",
    "def rand_str():\n",
    "    return ''.join(random.choice('abcdefghijklmnopqrstuvwxyz')\n",
    "                   for _ in range(random.randint(1, 5)))\n",
    "\n",
    "arr = [rand_str() for i in range(1000000)]"
   ]
  },
  {
   "cell_type": "code",
   "execution_count": 5,
   "metadata": {},
   "outputs": [],
   "source": [
    "def optimal_hash(s, n):\n",
    "    return n/s * log(2)\n",
    "\n",
    "def optimal_fp(s, n):\n",
    "    return (1/2) * (n/s) * log(2)\n",
    "\n",
    "def optimal_size(s, fp):\n",
    "    return 1/(log(2) ** 2) * s * log(1/fp)\n",
    "\n",
    "def fp_rate(k, s, fp):\n",
    "    a = (1 - exp^(-(k*s)/n)) ** k\n",
    "    if fp <= a:\n",
    "        return True\n",
    "    return False"
   ]
  },
  {
   "cell_type": "markdown",
   "metadata": {},
   "source": [
    "Функции hash"
   ]
  },
  {
   "cell_type": "code",
   "execution_count": 90,
   "metadata": {},
   "outputs": [],
   "source": [
    "def poly_hashpoly_has(s, x=34, p=1433329):  #1194997): 1190011):\n",
    "    h = 0\n",
    "    for j in range(len(s)-1, -1, -1):\n",
    "        h = (h * x + ord(s[j]) + p) % p\n",
    "    return h \n",
    "\n",
    "def double_hash(y):\n",
    "    def hash_int(x, a=112, b=22, p=1193483):  #1193483):\n",
    "        return (a*x + b) % p\n",
    "    return hash_int(poly_hashpoly_has(y))\n",
    "\n",
    "def hash1(y): \n",
    "    return hash(poly_hashpoly_has(y)) % 6235224\n",
    "\n",
    "def hash2(y):\n",
    "    return hash(y) % 6235224"
   ]
  },
  {
   "cell_type": "code",
   "execution_count": 91,
   "metadata": {},
   "outputs": [],
   "source": [
    "fp = 0.05\n",
    "s = 1000000\n",
    "n = int(optimal_size(s, fp))\n",
    "k = int(optimal_hash(s, n))\n",
    "N = [hash1, poly_hashpoly_has, double_hash, hash2]"
   ]
  },
  {
   "cell_type": "code",
   "execution_count": 92,
   "metadata": {},
   "outputs": [
    {
     "data": {
      "text/plain": [
       "6235224"
      ]
     },
     "execution_count": 92,
     "metadata": {},
     "output_type": "execute_result"
    }
   ],
   "source": [
    "n"
   ]
  },
  {
   "cell_type": "markdown",
   "metadata": {},
   "source": [
    "Немного изменим Блум фильтр, чтобы можно было отследить fp"
   ]
  },
  {
   "cell_type": "code",
   "execution_count": 93,
   "metadata": {},
   "outputs": [],
   "source": [
    "import random\n",
    "\n",
    "\n",
    "class bloom_filter2:\n",
    "\n",
    "    def __init__(self, n, k, N):\n",
    "        \"\"\"\n",
    "        n - number of bits in the array\n",
    "        k - number of hashes\n",
    "        N - array of hashes\n",
    "        \"\"\"\n",
    "        self.arr = bitarray(n)\n",
    "        self.hashes = random.sample(N, k)\n",
    "        self.check = {}\n",
    "        self.false_p = 0\n",
    "        self.true_n = 0\n",
    "\n",
    "    def insert(self, elem):\n",
    "        indices = []\n",
    "        for has in self.hashes:\n",
    "            h = has(elem)\n",
    "            indices.append(h)\n",
    "            self.check[elem] = h  #.append(elem)\n",
    "        for ind in indices:\n",
    "            self.arr[ind] = 1\n",
    "\n",
    "    def lookup(self, elem):\n",
    "        indices = [has(elem) for has in self.hashes]\n",
    "        a = elem not in self.check\n",
    "        for ind in indices:\n",
    "            if not self.arr[ind] and a:\n",
    "                self.true_n += 1\n",
    "                return False\n",
    "        if a:\n",
    "            self.false_p += 1\n",
    "        return True"
   ]
  },
  {
   "cell_type": "markdown",
   "metadata": {},
   "source": [
    "Добавляем элементы в Блум фильтр"
   ]
  },
  {
   "cell_type": "code",
   "execution_count": 94,
   "metadata": {},
   "outputs": [],
   "source": [
    "bl = bloom_filter2(n, k, N)\n",
    "\n",
    "for i in arr:\n",
    "    bl.insert(i)"
   ]
  },
  {
   "cell_type": "markdown",
   "metadata": {},
   "source": [
    "Тестовая выборка"
   ]
  },
  {
   "cell_type": "code",
   "execution_count": 95,
   "metadata": {},
   "outputs": [],
   "source": [
    "test_sample = [rand_str() for _ in range(1000000)]"
   ]
  },
  {
   "cell_type": "code",
   "execution_count": 96,
   "metadata": {},
   "outputs": [],
   "source": [
    "for i in test_sample:\n",
    "    bl.lookup(i)"
   ]
  },
  {
   "cell_type": "code",
   "execution_count": 97,
   "metadata": {},
   "outputs": [],
   "source": [
    "fp_exp = bl.false_p / (bl.false_p + bl.true_n)"
   ]
  },
  {
   "cell_type": "code",
   "execution_count": 98,
   "metadata": {},
   "outputs": [
    {
     "data": {
      "text/plain": [
       "0.03920929359911665"
      ]
     },
     "execution_count": 98,
     "metadata": {},
     "output_type": "execute_result"
    }
   ],
   "source": [
    "fp_exp"
   ]
  },
  {
   "cell_type": "markdown",
   "metadata": {},
   "source": [
    "$\\frac {\\epsilon - \\hat \\epsilon} \\epsilon$"
   ]
  },
  {
   "cell_type": "code",
   "execution_count": 99,
   "metadata": {},
   "outputs": [
    {
     "data": {
      "text/plain": [
       "0.21581412801766703"
      ]
     },
     "execution_count": 99,
     "metadata": {},
     "output_type": "execute_result"
    }
   ],
   "source": [
    "(fp - fp_exp) / fp"
   ]
  },
  {
   "cell_type": "markdown",
   "metadata": {},
   "source": [
    "Видно, что для наших данных и подобранных параметров 0.05 действительно является верхней оценкой."
   ]
  }
 ],
 "metadata": {
  "kernelspec": {
   "display_name": "Python 3",
   "language": "python",
   "name": "python3"
  },
  "language_info": {
   "codemirror_mode": {
    "name": "ipython",
    "version": 3
   },
   "file_extension": ".py",
   "mimetype": "text/x-python",
   "name": "python",
   "nbconvert_exporter": "python",
   "pygments_lexer": "ipython3",
   "version": "3.5.2"
  }
 },
 "nbformat": 4,
 "nbformat_minor": 2
}
