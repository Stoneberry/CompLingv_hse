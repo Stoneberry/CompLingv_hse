{
 "cells": [
  {
   "cell_type": "markdown",
   "metadata": {},
   "source": [
    "# Assignment 5\n",
    "\n",
    "Explore embeddings and CNN\n",
    "\n",
    "Using tweeter dataset ( https://www.kaggle.com/utathya/sentiment-analysis-of-imdb-reviews/data) and already existing splitting on train/test sets, develop a model for sentiment analysis. --- + \n",
    "Your quality metric is crossentropy (`sklearn.metrics.log_loss`, `torch.nn.CrossEntropy` --- +)  \n",
    "\n",
    "Your model should be based on CNN and written in pytorch `torch.nn.Conv1d`. --- +\n",
    "\n",
    "Explore 3 ways, which of them has better perfomance on test set?:\n",
    "1. Using pretrained word embeddings with frozen weights. `torch.nn.Embedding.from_pretrained(embed_matrix, frozen=True)`. --- -\n",
    "You can download any pretrained embeddings you like.\n",
    "2. Train embeddings yourself, initializing from pretrained weights. --- +`torch.nn.Embedding.from_pretrained(embed_matrix, frozen=False)`\n",
    "3. Train embeddings yourself with random initialization `torch.nn.init.uniform_(nn.Embeddings.weights)`\n",
    "\n",
    "Experiment with model arhitecture (as bonus):\n",
    "1. activation functions RELU, ELU, etc `torch.nn.functional.relu, torch.nn.functional.elu`  \n",
    "1. Stack layers\n",
    "1. max or average pooling (`torch.nn.functional.max_pool1d, torch.nn.functional.avg_pool1d`)\n",
    "1. Dropout\n",
    "\n",
    "\n",
    "Other requirements:\n",
    "1. Your training routine should use any learning scheduler (torch.nn.optim.lr_scheduler). \n",
    "Plot current learning rate against number of epochs, e.g. `tt.optim.Adam.param_groups[0]['lr']`.  \n",
    "\n",
    "1. Your training routine should use early stopping on validation dataset \n",
    "Use hold out validation scheme in your experiments.  --- +\n",
    "\n",
    "1. You should use torchtext for parsing -- +\n",
    "\n",
    "**Note**:\n",
    "This assignment has no baseline. Instead, **validation curves** for explored architectures are expected.  \n",
    "Validation curve is plot of model test score against model hyperparameter value.  \n",
    "example (https://scikit-learn.org/stable/auto_examples/model_selection/plot_validation_curve.html) . \n",
    "Though, using `sklearn.model_selection.validation_curve` is not necessary.  \n",
    "\n",
    "\n",
    "\n",
    "\n"
   ]
  },
  {
   "cell_type": "code",
   "execution_count": null,
   "metadata": {},
   "outputs": [],
   "source": []
  },
  {
   "cell_type": "markdown",
   "metadata": {},
   "source": [
    "## Attention"
   ]
  },
  {
   "cell_type": "markdown",
   "metadata": {},
   "source": [
    "* Работа не доделана! Я заболела, мне разрешили доделать после выздоровления. \n",
    "* На компьютере мало памяти, я работаю только с рандомновыбранной частью данных, поэтому при делении на тест и трейн я не принимаю во внимание уже существующее разделение."
   ]
  },
  {
   "cell_type": "markdown",
   "metadata": {},
   "source": [
    "## Data"
   ]
  },
  {
   "cell_type": "code",
   "execution_count": 1,
   "metadata": {},
   "outputs": [],
   "source": [
    "import pandas as pd\n",
    "import numpy as np\n",
    "from sklearn.externals import joblib\n",
    "import nltk\n",
    "import gensim\n",
    "\n",
    "from sklearn import metrics\n",
    "\n",
    "import torch as tt\n",
    "import torch.nn as nn\n",
    "import torch.nn.functional as F\n",
    "import torch.optim as optim\n",
    "\n",
    "from torchtext.data import Field, LabelField, RawField, BucketIterator, TabularDataset, Iterator\n",
    "\n",
    "SEED = 42\n",
    "np.random.seed(SEED)"
   ]
  },
  {
   "cell_type": "code",
   "execution_count": 2,
   "metadata": {},
   "outputs": [],
   "source": [
    "from string import punctuation\n",
    "from nltk.corpus import stopwords\n",
    "import warnings\n",
    "from tqdm import tqdm_notebook\n",
    "\n",
    "warnings.filterwarnings('ignore')"
   ]
  },
  {
   "cell_type": "code",
   "execution_count": 5,
   "metadata": {},
   "outputs": [],
   "source": [
    "df = pd.read_csv(\"data.csv\", sep=',', encoding = \"ISO-8859-1\")"
   ]
  },
  {
   "cell_type": "code",
   "execution_count": 6,
   "metadata": {},
   "outputs": [
    {
     "data": {
      "text/html": [
       "<div>\n",
       "<style scoped>\n",
       "    .dataframe tbody tr th:only-of-type {\n",
       "        vertical-align: middle;\n",
       "    }\n",
       "\n",
       "    .dataframe tbody tr th {\n",
       "        vertical-align: top;\n",
       "    }\n",
       "\n",
       "    .dataframe thead th {\n",
       "        text-align: right;\n",
       "    }\n",
       "</style>\n",
       "<table border=\"1\" class=\"dataframe\">\n",
       "  <thead>\n",
       "    <tr style=\"text-align: right;\">\n",
       "      <th></th>\n",
       "      <th>Unnamed: 0</th>\n",
       "      <th>type</th>\n",
       "      <th>review</th>\n",
       "      <th>label</th>\n",
       "      <th>file</th>\n",
       "    </tr>\n",
       "  </thead>\n",
       "  <tbody>\n",
       "    <tr>\n",
       "      <th>0</th>\n",
       "      <td>0</td>\n",
       "      <td>test</td>\n",
       "      <td>Once again Mr. Costner has dragged out a movie...</td>\n",
       "      <td>neg</td>\n",
       "      <td>0_2.txt</td>\n",
       "    </tr>\n",
       "    <tr>\n",
       "      <th>1</th>\n",
       "      <td>1</td>\n",
       "      <td>test</td>\n",
       "      <td>This is an example of why the majority of acti...</td>\n",
       "      <td>neg</td>\n",
       "      <td>10000_4.txt</td>\n",
       "    </tr>\n",
       "    <tr>\n",
       "      <th>2</th>\n",
       "      <td>2</td>\n",
       "      <td>test</td>\n",
       "      <td>First of all I hate those moronic rappers, who...</td>\n",
       "      <td>neg</td>\n",
       "      <td>10001_1.txt</td>\n",
       "    </tr>\n",
       "    <tr>\n",
       "      <th>3</th>\n",
       "      <td>3</td>\n",
       "      <td>test</td>\n",
       "      <td>Not even the Beatles could write songs everyon...</td>\n",
       "      <td>neg</td>\n",
       "      <td>10002_3.txt</td>\n",
       "    </tr>\n",
       "    <tr>\n",
       "      <th>4</th>\n",
       "      <td>4</td>\n",
       "      <td>test</td>\n",
       "      <td>Brass pictures (movies is not a fitting word f...</td>\n",
       "      <td>neg</td>\n",
       "      <td>10003_3.txt</td>\n",
       "    </tr>\n",
       "  </tbody>\n",
       "</table>\n",
       "</div>"
      ],
      "text/plain": [
       "   Unnamed: 0  type                                             review label  \\\n",
       "0           0  test  Once again Mr. Costner has dragged out a movie...   neg   \n",
       "1           1  test  This is an example of why the majority of acti...   neg   \n",
       "2           2  test  First of all I hate those moronic rappers, who...   neg   \n",
       "3           3  test  Not even the Beatles could write songs everyon...   neg   \n",
       "4           4  test  Brass pictures (movies is not a fitting word f...   neg   \n",
       "\n",
       "          file  \n",
       "0      0_2.txt  \n",
       "1  10000_4.txt  \n",
       "2  10001_1.txt  \n",
       "3  10002_3.txt  \n",
       "4  10003_3.txt  "
      ]
     },
     "execution_count": 6,
     "metadata": {},
     "output_type": "execute_result"
    }
   ],
   "source": [
    "df.head()"
   ]
  },
  {
   "cell_type": "code",
   "execution_count": 7,
   "metadata": {},
   "outputs": [
    {
     "data": {
      "text/plain": [
       "unsup    50000\n",
       "pos      25000\n",
       "neg      25000\n",
       "Name: label, dtype: int64"
      ]
     },
     "execution_count": 7,
     "metadata": {},
     "output_type": "execute_result"
    }
   ],
   "source": [
    "df.label.value_counts()"
   ]
  },
  {
   "cell_type": "code",
   "execution_count": 3,
   "metadata": {},
   "outputs": [],
   "source": [
    "from nltk.stem.wordnet import WordNetLemmatizer\n",
    "morph = WordNetLemmatizer()\n",
    "punct = punctuation+'«»—…“”*№–'\n",
    "stops = set(stopwords.words('english'))\n",
    "\n",
    "def normalize(text):\n",
    "    words = [word.strip(punct) for word in text.lower().split()]\n",
    "    words = [morph.lemmatize(word) for word in words if word and word not in stops]\n",
    "    return words #' '.join(words)\n",
    "\n",
    "def tokenizer(text):\n",
    "    words = [word.strip(punct) for word in text.lower().split()]\n",
    "    return words\n"
   ]
  },
  {
   "cell_type": "markdown",
   "metadata": {},
   "source": [
    "## torchtext"
   ]
  },
  {
   "cell_type": "code",
   "execution_count": 4,
   "metadata": {},
   "outputs": [],
   "source": [
    "classes={\n",
    "    'neg':0,\n",
    "    'unsup':1,\n",
    "    'pos':2\n",
    "}\n",
    "\n",
    "type_cl={\n",
    "    'train':0,\n",
    "    'test':1,\n",
    "}\n",
    "\n",
    "TEXT = Field(include_lengths=True, batch_first=True, \n",
    "             tokenize=tokenizer,\n",
    "             eos_token='<eos>',\n",
    "             lower=True,\n",
    "             stop_words=stops)\n",
    "LABEL = LabelField(dtype=tt.int64, use_vocab=True, preprocessing=lambda x: classes[x])\n",
    "\n",
    "#TYPE = LabelField(dtype=tt.int64, use_vocab=True, preprocessing=lambda x: type_cl[x])\n",
    "\n",
    "dataset = TabularDataset('data2.csv', format='csv', \n",
    "                         fields=[(None, None), (None, None), ('review', TEXT), ('label', LABEL), (None, None)], \n",
    "                         skip_header=True)\n",
    "\n",
    "#,type,review,label,file"
   ]
  },
  {
   "cell_type": "code",
   "execution_count": 5,
   "metadata": {},
   "outputs": [
    {
     "data": {
      "text/plain": [
       "1190"
      ]
     },
     "execution_count": 5,
     "metadata": {},
     "output_type": "execute_result"
    }
   ],
   "source": [
    "#TEXT.build_vocab(dataset, min_freq=10, vectors=\"glove.6B.100d\")\n",
    "TEXT.build_vocab(dataset, max_size=25000, min_freq=20)\n",
    "len(TEXT.vocab.itos)"
   ]
  },
  {
   "cell_type": "code",
   "execution_count": 6,
   "metadata": {},
   "outputs": [
    {
     "data": {
      "text/plain": [
       "['<unk>', '<pad>', '<eos>', 'br', 'movie', 'film', 'one', 'like', '', 'bad']"
      ]
     },
     "execution_count": 6,
     "metadata": {},
     "output_type": "execute_result"
    }
   ],
   "source": [
    "TEXT.vocab.itos[:10]"
   ]
  },
  {
   "cell_type": "code",
   "execution_count": 7,
   "metadata": {},
   "outputs": [],
   "source": [
    "LABEL.build_vocab(dataset)"
   ]
  },
  {
   "cell_type": "code",
   "execution_count": 8,
   "metadata": {},
   "outputs": [],
   "source": [
    "train, test = dataset.split(0.7, stratified=True)#, strata_field='type')\n",
    "train, valid = train.split(0.7, stratified=True)"
   ]
  },
  {
   "cell_type": "markdown",
   "metadata": {},
   "source": [
    "#### Model"
   ]
  },
  {
   "cell_type": "code",
   "execution_count": 9,
   "metadata": {},
   "outputs": [],
   "source": [
    "class MyModel(nn.Module):\n",
    "    \n",
    "    def __init__(self, vocab_size, embed_size, hidden_size, kernels, weights, froze=True, model2=False):\n",
    "        super(MyModel, self).__init__()\n",
    "        \n",
    "        if model2 is True: # task 3\n",
    "            self.embedding = tt.nn.Embedding(vocab_size, embed_size)\n",
    "            tt.nn.init.uniform_(self.embedding.weight)\n",
    "        else: # task 1 and 2\n",
    "            self.embedding = nn.Embedding.from_pretrained(weights, freeze=froze)\n",
    "\n",
    "        self.convs = nn.ModuleList([nn.Conv1d(embed_size, hidden_size, k, padding=5) for k in kernels])\n",
    "        self.fc = nn.Linear(hidden_size * len(kernels), 3)\n",
    "        \n",
    "    def forward(self, x):\n",
    "        \n",
    "        x = self.embedding(x)\n",
    "        x = x.transpose(1, 2)\n",
    "        \n",
    "        concatenated = []\n",
    "        for conv in self.convs:\n",
    "            z = conv(x)\n",
    "            z = F.avg_pool1d(z, kernel_size=z.size(2))\n",
    "            z = z.squeeze(2)\n",
    "            concatenated.append(z)\n",
    "            \n",
    "        x = tt.cat(concatenated, 1)\n",
    "        x = self.fc(x)\n",
    "        return x\n"
   ]
  },
  {
   "cell_type": "code",
   "execution_count": 10,
   "metadata": {},
   "outputs": [],
   "source": [
    "def build(n_epo, train, valid, test, weights, model2=False):\n",
    "    \n",
    "    global TEXT\n",
    "    \n",
    "    def fit(n_epo, train_iterator, optimizer, model, criterion, scheduler, valid_iterator):\n",
    "        \n",
    "        early = 0\n",
    "        min_loss = float('inf')\n",
    "        total_lr = []\n",
    "        t_par = tqdm_notebook([_ for _ in range(n_epo)], desc='epoch', leave=True)\n",
    "    \n",
    "        for i in t_par:\n",
    "            loss = 0\n",
    "            model.train()\n",
    "\n",
    "            for batch in train_iterator:\n",
    "        \n",
    "                optimizer.zero_grad()\n",
    "                pred = model.forward(batch.review[0])\n",
    "                loss = criterion(pred, batch.label)\n",
    "                optimizer.step()\n",
    "                loss += loss.item()\n",
    "                loss.backward()\n",
    "                \n",
    "            total_lr.append(optimizer.param_groups[0]['lr'])\n",
    "                \n",
    "            loss = 0\n",
    "            model.eval()\n",
    "                \n",
    "            with tt.no_grad():\n",
    "    \n",
    "                for batch in valid_iterator:\n",
    "                    pred = model.forward(batch.review[0])\n",
    "                    loss += criterion(pred, batch.label)\n",
    "                    loss += loss.item()\n",
    "        \n",
    "                if loss < min_loss:\n",
    "                    min_loss = loss\n",
    "                    early = 0\n",
    "                else:\n",
    "                    early += 1\n",
    "                if early > 10:\n",
    "                    break\n",
    "            scheduler.step(loss)\n",
    "\n",
    "        return total_lr\n",
    "    \n",
    "\n",
    "    tt.cuda.empty_cache()\n",
    "    batch_size = 32\n",
    "\n",
    "    model = MyModel(len(TEXT.vocab.itos),\n",
    "                embed_size=300,\n",
    "                hidden_size=128,\n",
    "                kernels=[2,3,4,5], weights=weights,\n",
    "               model2=model2)\n",
    "    print(\"model initialized\")\n",
    "\n",
    "    train_iterator, valid_iterator, test_iterator = BucketIterator.splits(\n",
    "        (train, valid, test),\n",
    "        batch_sizes=(batch_size, batch_size, batch_size),\n",
    "        shuffle=True,\n",
    "        sort_key=lambda x: len(x.review))\n",
    "    print(\"train_iterator, valid_iterator, test_iterator initialized\")\n",
    "\n",
    "    optimizer = optim.Adam(model.parameters())\n",
    "    scheduler = optim.lr_scheduler.ReduceLROnPlateau(optimizer, patience=5, verbose=True, cooldown=5)\n",
    "    criterion = tt.nn.CrossEntropyLoss()\n",
    "    print('starting fitting')\n",
    "    total_lr = fit(n_epo, train_iterator, optimizer, model, criterion, scheduler, valid_iterator)\n",
    "    \n",
    "    return model, test_iterator, total_lr"
   ]
  },
  {
   "cell_type": "code",
   "execution_count": 19,
   "metadata": {},
   "outputs": [],
   "source": [
    "def predict(text, model):\n",
    "    \n",
    "    global TEXT\n",
    "    \n",
    "    if isinstance(text, str):\n",
    "        tokenized = tokenizer(text)\n",
    "        text = TEXT.preprocess(text)\n",
    "        indexed = [[TEXT.vocab.stoi[t] for t in text]]\n",
    "        text = tt.LongTensor(indexed)\n",
    "\n",
    "    prediction = tt.sigmoid(model(text))\n",
    "    return prediction"
   ]
  },
  {
   "cell_type": "markdown",
   "metadata": {},
   "source": [
    "## Using pretrained word embeddings with frozen weights."
   ]
  },
  {
   "cell_type": "code",
   "execution_count": 12,
   "metadata": {},
   "outputs": [],
   "source": [
    "w2v_model = gensim.models.KeyedVectors.load_word2vec_format('/Users/Stoneberry/Downloads/GoogleNews-vectors-negative300.bin', binary=True)  "
   ]
  },
  {
   "cell_type": "code",
   "execution_count": 13,
   "metadata": {},
   "outputs": [],
   "source": [
    "weights = tt.FloatTensor(w2v_model.vectors)"
   ]
  },
  {
   "cell_type": "code",
   "execution_count": 14,
   "metadata": {},
   "outputs": [
    {
     "data": {
      "text/plain": [
       "torch.Size([3000000, 300])"
      ]
     },
     "execution_count": 14,
     "metadata": {},
     "output_type": "execute_result"
    }
   ],
   "source": [
    "weights.shape"
   ]
  },
  {
   "cell_type": "code",
   "execution_count": 15,
   "metadata": {},
   "outputs": [
    {
     "name": "stdout",
     "output_type": "stream",
     "text": [
      "model initialized\n",
      "train_iterator, valid_iterator, test_iterator initialized\n",
      "starting fitting\n"
     ]
    },
    {
     "data": {
      "application/vnd.jupyter.widget-view+json": {
       "model_id": "ed02841f202e4b4fa79975e4e78ca0ac",
       "version_major": 2,
       "version_minor": 0
      },
      "text/plain": [
       "HBox(children=(IntProgress(value=0, description='epoch', max=10), HTML(value='')))"
      ]
     },
     "metadata": {},
     "output_type": "display_data"
    },
    {
     "name": "stdout",
     "output_type": "stream",
     "text": [
      "Epoch     6: reducing learning rate of group 0 to 1.0000e-04.\n",
      "\n"
     ]
    }
   ],
   "source": [
    "model, test_iterator, total_lr = build(10, train, valid, test, weights, model2=False)"
   ]
  },
  {
   "cell_type": "code",
   "execution_count": 16,
   "metadata": {},
   "outputs": [],
   "source": [
    "import matplotlib.pyplot as plt\n",
    "\n",
    "def my_plot(n_epo, total_loss):\n",
    "    \n",
    "    plt.plot([i for i in range(n_epo)], total_loss, )\n",
    "    plt.show()\n"
   ]
  },
  {
   "cell_type": "code",
   "execution_count": 17,
   "metadata": {},
   "outputs": [
    {
     "data": {
      "image/png": "[encoded data removed]",
      "text/plain": [
       "<Figure size 432x288 with 1 Axes>"
      ]
     },
     "metadata": {
      "needs_background": "light"
     },
     "output_type": "display_data"
    }
   ],
   "source": [
    "my_plot(10, total_lr)"
   ]
  },
  {
   "cell_type": "markdown",
   "metadata": {},
   "source": [
    "Test"
   ]
  },
  {
   "cell_type": "code",
   "execution_count": 20,
   "metadata": {},
   "outputs": [
    {
     "data": {
      "application/vnd.jupyter.widget-view+json": {
       "model_id": "689b6b67bcfd46c8b80da9a85f13ba34",
       "version_major": 2,
       "version_minor": 0
      },
      "text/plain": [
       "HBox(children=(IntProgress(value=0, description='i', max=12), HTML(value='')))"
      ]
     },
     "metadata": {},
     "output_type": "display_data"
    }
   ],
   "source": [
    "res = []\n",
    "t_par = tqdm_notebook(test_iterator, desc='i', leave=True)\n",
    "\n",
    "for i in t_par:\n",
    "    pred = predict(i.review[0], model)\n",
    "    res.append(pred)"
   ]
  },
  {
   "cell_type": "markdown",
   "metadata": {},
   "source": [
    "## Train embeddings yourself, initializing from pretrained weights."
   ]
  },
  {
   "cell_type": "markdown",
   "metadata": {},
   "source": [
    "Обучаем w2v на данных с семинара"
   ]
  },
  {
   "cell_type": "code",
   "execution_count": 22,
   "metadata": {},
   "outputs": [],
   "source": [
    "data = pd.read_csv('/Users/Stoneberry/Downloads/Tweets.csv')"
   ]
  },
  {
   "cell_type": "code",
   "execution_count": 23,
   "metadata": {},
   "outputs": [],
   "source": [
    "documents = []\n",
    "\n",
    "for line in data.text:\n",
    "    documents.append(gensim.utils.simple_preprocess(line))"
   ]
  },
  {
   "cell_type": "code",
   "execution_count": 24,
   "metadata": {},
   "outputs": [
    {
     "data": {
      "text/plain": [
       "(1780038, 2441730)"
      ]
     },
     "execution_count": 24,
     "metadata": {},
     "output_type": "execute_result"
    }
   ],
   "source": [
    "my_w2v = gensim.models.Word2Vec(\n",
    "        documents,\n",
    "        size=150,\n",
    "        window=10,\n",
    "        min_count=2,\n",
    "        workers=10)\n",
    "my_w2v.train(documents, total_examples=len(documents), epochs=10)"
   ]
  },
  {
   "cell_type": "code",
   "execution_count": 25,
   "metadata": {},
   "outputs": [],
   "source": [
    "my_weights = tt.FloatTensor(w2v_model.vectors)"
   ]
  },
  {
   "cell_type": "code",
   "execution_count": 26,
   "metadata": {},
   "outputs": [
    {
     "data": {
      "text/plain": [
       "torch.Size([3000000, 300])"
      ]
     },
     "execution_count": 26,
     "metadata": {},
     "output_type": "execute_result"
    }
   ],
   "source": [
    "my_weights.shape"
   ]
  },
  {
   "cell_type": "markdown",
   "metadata": {},
   "source": [
    "Модель"
   ]
  },
  {
   "cell_type": "code",
   "execution_count": 27,
   "metadata": {},
   "outputs": [
    {
     "name": "stdout",
     "output_type": "stream",
     "text": [
      "model initialized\n",
      "train_iterator, valid_iterator, test_iterator initialized\n",
      "starting fitting\n"
     ]
    },
    {
     "data": {
      "application/vnd.jupyter.widget-view+json": {
       "model_id": "c4e631254c4e40caa1d337161e9ca587",
       "version_major": 2,
       "version_minor": 0
      },
      "text/plain": [
       "HBox(children=(IntProgress(value=0, description='epoch', max=10), HTML(value='')))"
      ]
     },
     "metadata": {},
     "output_type": "display_data"
    },
    {
     "name": "stdout",
     "output_type": "stream",
     "text": [
      "Epoch     6: reducing learning rate of group 0 to 1.0000e-04.\n"
     ]
    }
   ],
   "source": [
    "model2, test_iterator2, total_lr2 = build(10, train, valid, test, my_weights, model2=False)"
   ]
  },
  {
   "cell_type": "code",
   "execution_count": 29,
   "metadata": {},
   "outputs": [
    {
     "data": {
      "image/png": "[encoded data removed]",
      "text/plain": [
       "<Figure size 432x288 with 1 Axes>"
      ]
     },
     "metadata": {
      "needs_background": "light"
     },
     "output_type": "display_data"
    }
   ],
   "source": [
    "my_plot(10, total_lr2)"
   ]
  },
  {
   "cell_type": "markdown",
   "metadata": {},
   "source": [
    "Predict"
   ]
  },
  {
   "cell_type": "code",
   "execution_count": 28,
   "metadata": {},
   "outputs": [
    {
     "data": {
      "application/vnd.jupyter.widget-view+json": {
       "model_id": "2dd275b6a8954c77af45619aaa0dee64",
       "version_major": 2,
       "version_minor": 0
      },
      "text/plain": [
       "HBox(children=(IntProgress(value=0, description='i', max=12), HTML(value='')))"
      ]
     },
     "metadata": {},
     "output_type": "display_data"
    }
   ],
   "source": [
    "res2 = []\n",
    "t_par = tqdm_notebook(test_iterator2, desc='i', leave=True)\n",
    "\n",
    "for i in t_par:\n",
    "    pred = predict(i.review[0], model2)\n",
    "    res2.append(pred)"
   ]
  },
  {
   "cell_type": "markdown",
   "metadata": {},
   "source": [
    "## Train embeddings yourself with random initialization \n",
    "\n",
    "torch.nn.init.uniform_(nn.Embeddings.weights)"
   ]
  },
  {
   "cell_type": "code",
   "execution_count": 30,
   "metadata": {},
   "outputs": [
    {
     "name": "stdout",
     "output_type": "stream",
     "text": [
      "model initialized\n",
      "train_iterator, valid_iterator, test_iterator initialized\n",
      "starting fitting\n"
     ]
    },
    {
     "data": {
      "application/vnd.jupyter.widget-view+json": {
       "model_id": "8659fade5f5f491698515e19df4bf0dc",
       "version_major": 2,
       "version_minor": 0
      },
      "text/plain": [
       "HBox(children=(IntProgress(value=0, description='epoch', max=10), HTML(value='')))"
      ]
     },
     "metadata": {},
     "output_type": "display_data"
    },
    {
     "name": "stdout",
     "output_type": "stream",
     "text": [
      "Epoch     6: reducing learning rate of group 0 to 1.0000e-04.\n"
     ]
    }
   ],
   "source": [
    "model3, test_iterator3, total_lr3 = build(10, train, valid, test, my_weights, model2=True)"
   ]
  },
  {
   "cell_type": "code",
   "execution_count": 31,
   "metadata": {},
   "outputs": [
    {
     "data": {
      "image/png": "[encoded data removed]",
      "text/plain": [
       "<Figure size 432x288 with 1 Axes>"
      ]
     },
     "metadata": {
      "needs_background": "light"
     },
     "output_type": "display_data"
    }
   ],
   "source": [
    "my_plot(10, total_lr3)"
   ]
  },
  {
   "cell_type": "code",
   "execution_count": 32,
   "metadata": {},
   "outputs": [
    {
     "data": {
      "application/vnd.jupyter.widget-view+json": {
       "model_id": "f83de600fd8843b189bde2bebdfa64d0",
       "version_major": 2,
       "version_minor": 0
      },
      "text/plain": [
       "HBox(children=(IntProgress(value=0, description='i', max=12), HTML(value='')))"
      ]
     },
     "metadata": {},
     "output_type": "display_data"
    }
   ],
   "source": [
    "res3 = []\n",
    "t_par = tqdm_notebook(test_iterator3, desc='i', leave=True)\n",
    "\n",
    "for i in t_par:\n",
    "    pred = predict(i.review[0], model3)\n",
    "    res3.append(pred)"
   ]
  },
  {
   "cell_type": "code",
   "execution_count": null,
   "metadata": {},
   "outputs": [],
   "source": []
  }
 ],
 "metadata": {
  "kernelspec": {
   "display_name": "Python 3",
   "language": "python",
   "name": "python3"
  },
  "language_info": {
   "codemirror_mode": {
    "name": "ipython",
    "version": 3
   },
   "file_extension": ".py",
   "mimetype": "text/x-python",
   "name": "python",
   "nbconvert_exporter": "python",
   "pygments_lexer": "ipython3",
   "version": "3.6.5"
  }
 },
 "nbformat": 4,
 "nbformat_minor": 2
}
