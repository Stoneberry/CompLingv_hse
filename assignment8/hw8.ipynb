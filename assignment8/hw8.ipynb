{
  "cells": [
    {
      "metadata": {
        "trusted": true,
        "_uuid": "1a53dcb48bc713ea37d47ee03f6a8e8a0a8098ca"
      },
      "cell_type": "code",
      "source": "import torch as tt\nimport torch.nn as nn\nimport torch.optim as optim\nfrom tqdm import tqdm_notebook \nfrom torch.autograd import Variable",
      "execution_count": 1,
      "outputs": []
    },
    {
      "metadata": {
        "trusted": true,
        "_uuid": "3b9df624962febb9ddadddaeb2e379ee5bdb634c"
      },
      "cell_type": "code",
      "source": "import pandas as pd\nimport numpy as np\nimport random\nimport torch.nn.functional as F",
      "execution_count": 2,
      "outputs": []
    },
    {
      "metadata": {
        "trusted": true,
        "_uuid": "2dfe2a306edefa8b64382e4bd265b66add66f7ef"
      },
      "cell_type": "code",
      "source": "import os\nimport re\nfrom collections import defaultdict, Counter\nfrom string import punctuation\nfrom sklearn.model_selection import train_test_split\n\n\npunct = punctuation+'«»—…“”*№–'",
      "execution_count": 3,
      "outputs": []
    },
    {
      "metadata": {
        "_uuid": "92b3b0690a487ff23f4f6205ba5c12b654da8fb9"
      },
      "cell_type": "markdown",
      "source": "Основная идея - мы обучаем Tripletloss на текстах газет, тексты, которые принадлежат одной газете должны иметь схожие эмбединги. Далее эти эмбединги в качестве прихнаков мы подаем knn. Даем эмбединги теста и предсказываем результат. Здесь важнешую роль будут иметь эмбединги. Если они плохие - то результат будет соответствующий."
    },
    {
      "metadata": {
        "_uuid": "8a73e2261127fc0af3657610f81c8f0fac852627"
      },
      "cell_type": "markdown",
      "source": "# Data"
    },
    {
      "metadata": {
        "trusted": true,
        "_uuid": "599dfee7c238709a2eed7668f4610d2df284b4bc"
      },
      "cell_type": "code",
      "source": "label = ['alt.atheism',\n 'comp.graphics',\n 'comp.os.ms-windows.misc',\n 'comp.sys.ibm.pc.hardware',\n 'comp.sys.mac.hardware',\n 'comp.windows.x',\n 'misc.forsale',\n 'rec.autos',\n 'rec.motorcycles',\n 'rec.sport.baseball',\n 'rec.sport.hockey',\n 'sci.crypt',\n 'sci.electronics',\n 'sci.med',\n 'sci.space',\n 'soc.religion.christian',\n 'talk.politics.guns',\n 'talk.politics.mideast',\n 'talk.politics.misc',\n 'talk.religion.misc']",
      "execution_count": 4,
      "outputs": []
    },
    {
      "metadata": {
        "_uuid": "659841ed07a887426d9da4daec29f5a259ed5c47"
      },
      "cell_type": "markdown",
      "source": "Так как у меня не получалось импортировать из sklearn, я нашла данные в интернете и разделила их на несколько частей. Это словари, где key - индекс газеты из списка выше, а значения - индексы текстов в списке all_texts, где хранятся все-все тексты. "
    },
    {
      "metadata": {
        "trusted": true,
        "_uuid": "28adae7d5c0459c3686ee499817fde390012c771"
      },
      "cell_type": "code",
      "source": "import pickle\n\nwith open('../input/8-hw-s2/all_texts.pickle', 'rb') as f:\n    all_texts = pickle.load(f)\n    \nwith open('../input/8-hw-s/x_test.pickle', 'rb') as f:\n    x_test = pickle.load(f)\n    \nwith open('../input/8-hw-s/x_train.pickle', 'rb') as f:\n    x_train = pickle.load(f)\n    \nwith open('../input/8-hw-s/x_valid.pickle', 'rb') as f:\n    x_valid = pickle.load(f)\n",
      "execution_count": 5,
      "outputs": []
    },
    {
      "metadata": {
        "trusted": true,
        "_uuid": "51b1ce93bcc1bc1d172e4c046ba86ea25103fb09"
      },
      "cell_type": "code",
      "source": "all_texts[0]",
      "execution_count": 6,
      "outputs": [
        {
          "output_type": "execute_result",
          "execution_count": 6,
          "data": {
            "text/plain": "'From: mathew <mathew@mantis.co.uk> Subject: Alt.Atheism FAQ: Atheist Resources Summary: Books, addresses, music -- anything related to atheism Keywords: FAQ, atheism, books, music, fiction, addresses, contacts Expires: Thu, 29 Apr 1993 11:57:19 GMT Distribution: world Organization: Mantis Consultants, Cambridge. UK. Supersedes: <19930301143317@mantis.co.uk> Lines: 290  Archive-name: atheism/resources Alt-atheism-archive-name: resources Last-modified: 11 December 1992 Version: 1.0                                Atheist Resources                        Addresses of Atheist Organizations                                       USA  FREEDOM FROM RELIGION FOUNDATION  Darwin fish bumper stickers and assorted other atheist paraphernalia are available from the Freedom From Religion Foundation in the US.  Write to:  FFRF, P.O. Box 750, Madison, WI 53701. Telephone: (608) 256-8900  EVOLUTION DESIGNS  Evolution Designs sell the \"Darwin fish\".  It\\'s a fish symbol, like the ones Christians stick on their cars, but with feet and the word \"Darwin\" written inside.  The deluxe moulded 3D plastic fish is $4.95 postpaid in the US.  Write to:  Evolution Designs, 7119 Laurel Canyon #4, North Hollywood,            CA 91605.  People in the San Francisco Bay area can get Darwin Fish from Lynn Gold -- try mailing <figmo@netcom.com>.  For net people who go to Lynn directly, the price is $4.95 per fish.  AMERICAN ATHEIST PRESS  AAP publish various atheist books -- critiques of the Bible, lists of Biblical contradictions, and so on.  One such book is:  \"The Bible Handbook\" by W.P. Ball and G.W. Foote.  American Atheist Press. 372 pp.  ISBN 0-910309-26-4, 2nd edition, 1986.  Bible contradictions, absurdities, atrocities, immoralities... contains Ball, Foote: \"The Bible Contradicts Itself\", AAP.  Based on the King James version of the Bible.  Write to:  American Atheist Press, P.O. Box 140195, Austin, TX 78714-0195.       or:  7215 Cameron Road, Austin, TX 78752-2973. Telephone: (512) 458-1244 Fax:       (512) 467-9525  PROMETHEUS BOOKS  Sell books including Haught\\'s \"Holy Horrors\" (see below).  Write to:  700 East Amherst Street, Buffalo, New York 14215. Telephone: (716) 837-2475.  An alternate address (which may be newer or older) is: Prometheus Books, 59 Glenn Drive, Buffalo, NY 14228-2197.  AFRICAN-AMERICANS FOR HUMANISM  An organization promoting black secular humanism and uncovering the history of black freethought.  They publish a quarterly newsletter, AAH EXAMINER.  Write to:  Norm R. Allen, Jr., African Americans for Humanism, P.O. Box 664,            Buffalo, NY 14226.                                  United Kingdom  Rationalist Press Association          National Secular Society 88 Islington High Street               702 Holloway Road London N1 8EW                          London N19 3NL 071 226 7251                           071 272 1266  British Humanist Association           South Place Ethical Society 14 Lamb\\'s Conduit Passage              Conway Hall London WC1R 4RH                        Red Lion Square 071 430 0908                           London WC1R 4RL fax 071 430 1271                       071 831 7723  The National Secular Society publish \"The Freethinker\", a monthly magazine founded in 1881.                                     Germany  IBKA e.V. Internationaler Bund der Konfessionslosen und Atheisten Postfach 880, D-1000 Berlin 41. Germany.  IBKA publish a journal: MIZ. (Materialien und Informationen zur Zeit. Politisches Journal der Konfessionslosesn und Atheisten. Hrsg. IBKA e.V.) MIZ-Vertrieb, Postfach 880, D-1000 Berlin 41. Germany.  For atheist books, write to:  IBDK, Internationaler B\"ucherdienst der Konfessionslosen Postfach 3005, D-3000 Hannover 1. Germany. Telephone: 0511/211216                                  Books -- Fiction  THOMAS M. DISCH  \"The Santa Claus Compromise\" Short story.  The ultimate proof that Santa exists.  All characters and  events are fictitious.  Any similarity to living or dead gods -- uh, well...  WALTER M. MILLER, JR  \"A Canticle for Leibowitz\" One gem in this post atomic doomsday novel is the monks who spent their lives copying blueprints from \"Saint Leibowitz\", filling the sheets of paper with ink and leaving white lines and letters.  EDGAR PANGBORN  \"Davy\" Post atomic doomsday novel set in clerical states.  The church, for example, forbids that anyone \"produce, describe or use any substance containing... atoms\".   PHILIP K. DICK  Philip K. Dick Dick wrote many philosophical and thought-provoking short  stories and novels.  His stories are bizarre at times, but very approachable. He wrote mainly SF, but he wrote about people, truth and religion rather than technology.  Although he often believed that he had met some sort of God, he remained sceptical.  Amongst his novels, the following are of some relevance:  \"Galactic Pot-Healer\" A fallible alien deity summons a group of Earth craftsmen and women to a remote planet to raise a giant cathedral from beneath the oceans.  When the deity begins to demand faith from the earthers, pot-healer Joe Fernwright is unable to comply.  A polished, ironic and amusing novel.  \"A Maze of Death\" Noteworthy for its description of a technology-based religion.  \"VALIS\" The schizophrenic hero searches for the hidden mysteries of Gnostic Christianity after reality is fired into his brain by a pink laser beam of unknown but possibly divine origin.  He is accompanied by his dogmatic and dismissively atheist friend and assorted other odd characters.  \"The Divine Invasion\" God invades Earth by making a young woman pregnant as she returns from another star system.  Unfortunately she is terminally ill, and must be assisted by a dead man whose brain is wired to 24-hour easy listening music.  MARGARET ATWOOD  \"The Handmaid\\'s Tale\" A story based on the premise that the US Congress is mysteriously assassinated, and fundamentalists quickly take charge of the nation to set it \"right\" again.  The book is the diary of a woman\\'s life as she tries to live under the new Christian theocracy.  Women\\'s right to own property is revoked, and their bank accounts are closed; sinful luxuries are outlawed, and the radio is only used for readings from the Bible.  Crimes are punished retroactively: doctors who performed legal abortions in the \"old world\" are hunted down and hanged.  Atwood\\'s writing style is difficult to get used to at first, but the tale grows more and more chilling as it goes on.  VARIOUS AUTHORS  \"The Bible\" This somewhat dull and rambling work has often been criticized.  However, it is probably worth reading, if only so that you\\'ll know what all the fuss is about.  It exists in many different versions, so make sure you get the one true version.                               Books -- Non-fiction  PETER DE ROSA  \"Vicars of Christ\", Bantam Press, 1988 Although de Rosa seems to be Christian or even Catholic this is a very enlighting history of papal immoralities, adulteries, fallacies etc. (German translation: \"Gottes erste Diener. Die dunkle Seite des Papsttums\", Droemer-Knaur, 1989)  MICHAEL MARTIN  \"Atheism: A Philosophical Justification\", Temple University Press,  Philadelphia, USA. A detailed and scholarly justification of atheism.  Contains an outstanding appendix defining terminology and usage in this (necessarily) tendentious area.  Argues both for \"negative atheism\" (i.e. the \"non-belief in the existence of god(s)\") and also for \"positive atheism\" (\"the belief in the non-existence of god(s)\").  Includes great refutations of the most challenging arguments for god; particular attention is paid to refuting contempory theists such as Platinga and Swinburne. 541 pages. ISBN 0-87722-642-3 (hardcover; paperback also available)  \"The Case Against Christianity\", Temple University Press A comprehensive critique of Christianity, in which he considers the best contemporary defences of Christianity and (ultimately) demonstrates that they are unsupportable and/or incoherent. 273 pages. ISBN 0-87722-767-5  JAMES TURNER  \"Without God, Without Creed\", The Johns Hopkins University Press, Baltimore,  MD, USA Subtitled \"The Origins of Unbelief in America\".  Examines the way in which unbelief (whether agnostic or atheistic)  became a mainstream alternative world-view.  Focusses on the period 1770-1900, and while considering France and Britain the emphasis is on American, and particularly New England developments.  \"Neither a religious history of secularization or atheism, Without God, Without Creed is, rather, the intellectual history of the fate of a single idea, the belief that God exists.\"  316 pages. ISBN (hardcover) 0-8018-2494-X (paper) 0-8018-3407-4  GEORGE SELDES (Editor)  \"The great thoughts\", Ballantine Books, New York, USA A \"dictionary of quotations\" of a different kind, concentrating on statements and writings which, explicitly or implicitly, present the person\\'s philosophy and world-view.  Includes obscure (and often suppressed) opinions from many people.  For some popular observations, traces the way in which various people expressed and twisted the idea over the centuries.  Quite a number of the quotations are derived from Cardiff\\'s \"What Great Men Think of Religion\" and Noyes\\' \"Views of Religion\". 490 pages. ISBN (paper) 0-345-29887-X.  RICHARD SWINBURNE  \"The Existence of God (Revised Edition)\", Clarendon Paperbacks, Oxford This book is the second volume in a trilogy that began with \"The Coherence of Theism\" (1977) and was concluded with \"Faith and Reason\" (1981).  In this work, Swinburne attempts to construct a series of inductive arguments for the existence of God.  His arguments, which are somewhat tendentious and rely upon the imputation of late 20th century western Christian values and aesthetics to a God which is supposedly as simple as can be conceived, were decisively rejected in Mackie\\'s \"The Miracle of Theism\".  In the revised edition of \"The Existence of God\", Swinburne includes an Appendix in which he makes a somewhat incoherent attempt to rebut Mackie.  J. L. MACKIE  \"The Miracle of Theism\", Oxford This (posthumous) volume contains a comprehensive review of the principal arguments for and against the existence of God.  It ranges from the classical philosophical positions of Descartes, Anselm, Berkeley, Hume et al, through the moral arguments of Newman, Kant and Sidgwick, to the recent restatements of the classical theses by Plantinga and Swinburne.  It also addresses those positions which push the concept of God beyond the realm of the rational, such as those of Kierkegaard, Kung and Philips, as well as \"replacements for God\" such as Lelie\\'s axiarchism.  The book is a delight to read - less formalistic and better written than Martin\\'s works, and refreshingly direct when compared with the hand-waving of Swinburne.  JAMES A. HAUGHT  \"Holy Horrors: An Illustrated History of Religious Murder and Madness\",  Prometheus Books Looks at religious persecution from ancient times to the present day -- and not only by Christians. Library of Congress Catalog Card Number 89-64079. 1990.  NORM R. ALLEN, JR.  \"African American Humanism: an Anthology\" See the listing for African Americans for Humanism above.  GORDON STEIN  \"An Anthology of Atheism and Rationalism\", Prometheus Books An anthology covering a wide range of subjects, including \\'The Devil, Evil and Morality\\' and \\'The History of Freethought\\'.  Comprehensive bibliography.  EDMUND D. COHEN  \"The Mind of The Bible-Believer\", Prometheus Books A study of why people become Christian fundamentalists, and what effect it has on them.                                  Net Resources  There\\'s a small mail-based archive server at mantis.co.uk which carries archives of old alt.atheism.moderated articles and assorted other files.  For more information, send mail to archive-server@mantis.co.uk saying     help    send atheism/index  and it will mail back a reply.   mathew  '"
          },
          "metadata": {}
        }
      ]
    },
    {
      "metadata": {
        "trusted": true,
        "_uuid": "ed3c8dd37eb9a2ee96cfaf7ca7d1e47fff41dad6"
      },
      "cell_type": "code",
      "source": "x_train[0][:10]",
      "execution_count": 7,
      "outputs": [
        {
          "output_type": "execute_result",
          "execution_count": 7,
          "data": {
            "text/plain": "[23, 252, 447, 56, 476, 376, 227, 474, 292, 157]"
          },
          "metadata": {}
        }
      ]
    },
    {
      "metadata": {
        "trusted": true,
        "_uuid": "dda235f7c65497b21b27136d7e0cb9671ec7148e"
      },
      "cell_type": "code",
      "source": "x_test[0][:10]",
      "execution_count": 8,
      "outputs": [
        {
          "output_type": "execute_result",
          "execution_count": 8,
          "data": {
            "text/plain": "[11314, 11315, 11316, 11317, 11318, 11319, 11320, 11321, 11322, 11323]"
          },
          "metadata": {}
        }
      ]
    },
    {
      "metadata": {
        "_uuid": "1decc74963b7b1f2415c43109889f7b1a9c990bd"
      },
      "cell_type": "markdown",
      "source": "Создаем пары pos, neg, anc"
    },
    {
      "metadata": {
        "trusted": true,
        "_uuid": "35ea313bd3e2b508e01ea8727b7746288206086c"
      },
      "cell_type": "code",
      "source": "def test_set(data):\n\n    x = []\n    y = []\n\n    for cls in data:\n        for txt in data[cls]:\n            x.append(txt)\n            y.append(cls)\n    \n    return x, y\n\n\ndef datasett(data, all_texts):\n    \n    all_size = [len(data[i]) for i in data]\n    #indices_anc = np.random.choice(list(range(len(label))), size= sum(all_size))\n    \n    indices_anc = np.random.choice(list(range(len(label))), size=sum(all_size))\n    \n    pair = []\n    y = []\n\n    for anc_ind in indices_anc:\n    \n        neg_ind = np.random.choice([l for l in range(len(label)) if anc_ind != l])\n    \n        pos, anc = [np.random.choice(data[anc_ind]) for _ in range(2)]\n        neg = np.random.choice(data[neg_ind])\n    \n        pair.append((anc, pos, neg))\n        y.append(anc_ind)\n    \n    return pair, y\n\n\ntrain_x, train_y = datasett(x_train, all_texts)\nvalid_x, valid_y = datasett(x_valid, all_texts)\ntest_x, test_y = test_set(x_test)",
      "execution_count": 9,
      "outputs": []
    },
    {
      "metadata": {
        "trusted": true,
        "_uuid": "f7bc18dd602cfff56c589f4ad50b27fa2908e119"
      },
      "cell_type": "code",
      "source": "train_x[0], train_y[0]",
      "execution_count": 10,
      "outputs": [
        {
          "output_type": "execute_result",
          "execution_count": 10,
          "data": {
            "text/plain": "((3719, 3682, 4166), 6)"
          },
          "metadata": {}
        }
      ]
    },
    {
      "metadata": {
        "trusted": true,
        "_uuid": "9bec839dce03fb155186be2307ec165542d2ad86"
      },
      "cell_type": "markdown",
      "source": "Build vocab"
    },
    {
      "metadata": {
        "trusted": true,
        "_uuid": "e1b91e96fcb358264600180836d5bf62db1f5706"
      },
      "cell_type": "code",
      "source": "def tokenizer(text):\n    words = [word.strip(punct) for word in text.lower().split()]\n    return words",
      "execution_count": 11,
      "outputs": []
    },
    {
      "metadata": {
        "trusted": true,
        "_uuid": "42603f7edd725712ebf971153db2bb4e86263fe4"
      },
      "cell_type": "code",
      "source": "vocab = Counter()\nmax_len = 0\n\nfor text in all_texts:\n    tok = tokenizer(text)\n    vocab.update(tok)\n    if len(tok) > max_len: max_len = len(tok)\n",
      "execution_count": 12,
      "outputs": []
    },
    {
      "metadata": {
        "trusted": true,
        "_uuid": "75c9f8546032aae21aa8229ddf9aa8372a4855be"
      },
      "cell_type": "code",
      "source": "max_len",
      "execution_count": 13,
      "outputs": [
        {
          "output_type": "execute_result",
          "execution_count": 13,
          "data": {
            "text/plain": "11821"
          },
          "metadata": {}
        }
      ]
    },
    {
      "metadata": {
        "trusted": true,
        "_uuid": "e70c696d43c99ec96682798f449a199716807d6f"
      },
      "cell_type": "code",
      "source": "vocab = [i for i in vocab if vocab[i] > 10]",
      "execution_count": 14,
      "outputs": []
    },
    {
      "metadata": {
        "trusted": true,
        "_uuid": "be038d2fd0401d7fcac2337fff5978cbf80d18ef"
      },
      "cell_type": "code",
      "source": "vocab += ['<pad>', '<eos>']",
      "execution_count": 15,
      "outputs": []
    },
    {
      "metadata": {
        "trusted": true,
        "_uuid": "1562f6397704e39aba4440e965c7898dec6d53eb"
      },
      "cell_type": "code",
      "source": "len(vocab)",
      "execution_count": 16,
      "outputs": [
        {
          "output_type": "execute_result",
          "execution_count": 16,
          "data": {
            "text/plain": "22415"
          },
          "metadata": {}
        }
      ]
    },
    {
      "metadata": {
        "trusted": true,
        "_uuid": "66c74fef5597f7d74bcf7657f8d23174b76b9204"
      },
      "cell_type": "code",
      "source": "vocab.index('from')",
      "execution_count": 17,
      "outputs": [
        {
          "output_type": "execute_result",
          "execution_count": 17,
          "data": {
            "text/plain": "0"
          },
          "metadata": {}
        }
      ]
    },
    {
      "metadata": {
        "trusted": true,
        "_uuid": "0a137ac6c822e438121d3f63832ae6f64d6e9421"
      },
      "cell_type": "code",
      "source": "",
      "execution_count": null,
      "outputs": []
    },
    {
      "metadata": {
        "trusted": true,
        "_uuid": "9a2a0f733219f5642d6d6ee2004474ce42832771"
      },
      "cell_type": "code",
      "source": "def tokenizer2(text, vocab):\n    \n    tensor = tt.zeros(11821).long()\n    tensor = tensor.fill_(22413)  # padding\n    index = 0\n\n    \n    for word in text.lower().split():\n\n        try:\n            tensor[index] = vocab.index(word.strip(punct))\n            index += 1\n        except: continue\n       \n    tensor[index] = 22414\n\n    return tensor, index",
      "execution_count": 18,
      "outputs": []
    },
    {
      "metadata": {
        "trusted": true,
        "_uuid": "ff311a6bd28ae9e5aa17fe858691d1388ed2d028"
      },
      "cell_type": "code",
      "source": "new_text = []\nmax_len = 0\n\nfor text in tqdm_notebook(all_texts):\n    tensor, index = tokenizer2(text, vocab)\n    new_text.append(tensor) \n    if index > max_len: max_len = index\n",
      "execution_count": 19,
      "outputs": [
        {
          "output_type": "display_data",
          "data": {
            "text/plain": "HBox(children=(IntProgress(value=0, max=18846), HTML(value='')))",
            "application/vnd.jupyter.widget-view+json": {
              "version_major": 2,
              "version_minor": 0,
              "model_id": "5a0e02d191d34957b0753b335e9fdeac"
            }
          },
          "metadata": {}
        },
        {
          "output_type": "stream",
          "text": "\n",
          "name": "stdout"
        }
      ]
    },
    {
      "metadata": {
        "trusted": true,
        "_uuid": "bfa4085145d0ca9fc77b601b8b1ebd5062bd0775"
      },
      "cell_type": "code",
      "source": "max_len",
      "execution_count": 20,
      "outputs": [
        {
          "output_type": "execute_result",
          "execution_count": 20,
          "data": {
            "text/plain": "11246"
          },
          "metadata": {}
        }
      ]
    },
    {
      "metadata": {
        "trusted": true,
        "_uuid": "be2e98ad9db99d71abf406beec84f9fe6c660e16"
      },
      "cell_type": "code",
      "source": "new_text = [text[:max_len] for text in new_text]",
      "execution_count": 21,
      "outputs": []
    },
    {
      "metadata": {
        "trusted": true,
        "_uuid": "43178452144d32e8f2e9a4e0d2d4491b09e574b4"
      },
      "cell_type": "code",
      "source": "new_text[0]",
      "execution_count": 22,
      "outputs": [
        {
          "output_type": "execute_result",
          "execution_count": 22,
          "data": {
            "text/plain": "tensor([    0,     1,     2,  ..., 22413, 22413, 22413])"
          },
          "metadata": {}
        }
      ]
    },
    {
      "metadata": {
        "trusted": true,
        "_uuid": "f25a4517093789d85c5258c9217e396230aafa4e"
      },
      "cell_type": "code",
      "source": "del all_texts",
      "execution_count": 23,
      "outputs": []
    },
    {
      "metadata": {
        "_uuid": "e3409e203f3dce9da2b5c14a7f87dc479b836545"
      },
      "cell_type": "markdown",
      "source": "# MOdel"
    },
    {
      "metadata": {
        "trusted": true,
        "_uuid": "653942735841160449be9fa7014ef68227b905f9"
      },
      "cell_type": "code",
      "source": "def _train_epoch(model, iterator, optimizer, curr_epoch):\n\n    model.train()\n\n    running_loss = 0\n\n    n_batches = len(iterator)\n    iterator = tqdm_notebook(iterator, total=n_batches, desc='epoch %d' % (curr_epoch), leave=True)\n\n    for i, batch in enumerate(iterator):\n        optimizer.zero_grad()\n\n        loss = model(batch).sum()\n        loss.backward()\n        optimizer.step()\n\n        curr_loss = loss.data.cpu().detach().item()\n        \n        loss_smoothing = i / (i+1)\n        running_loss = loss_smoothing * running_loss + (1 - loss_smoothing) * curr_loss\n\n        iterator.set_postfix(loss='%.5f' % running_loss)\n\n    return running_loss\n\ndef _test_epoch(model, iterator):\n    model.eval()\n    epoch_loss = 0\n\n    n_batches = len(iterator)\n    with tt.no_grad():\n        for batch in iterator:\n            loss = model(batch).sum()\n            epoch_loss += loss.data.item()\n\n    return epoch_loss / n_batches\n\n\ndef nn_train(model, train_iterator, valid_iterator, optimizer, n_epochs=100,\n          scheduler=None, early_stopping=0):\n\n    prev_loss = 100500\n    es_epochs = 0\n    best_epoch = None\n    history = pd.DataFrame()\n\n    for epoch in range(n_epochs):\n        train_loss = _train_epoch(model, train_iterator, optimizer, epoch)\n        valid_loss = _test_epoch(model, valid_iterator)\n\n        valid_loss = valid_loss\n        print('validation loss %.5f' % valid_loss)\n\n        record = {'epoch': epoch, 'train_loss': train_loss, 'valid_loss': valid_loss}\n        history = history.append(record, ignore_index=True)\n\n        if early_stopping > 0:\n            if valid_loss > prev_loss:\n                es_epochs += 1\n            else:\n                es_epochs = 0\n\n            if es_epochs >= early_stopping:\n                best_epoch = history[history.valid_loss == history.valid_loss.min()].iloc[0]\n                print('Early stopping! best epoch: %d val %.5f' % (best_epoch['epoch'], best_epoch['valid_loss']))\n                break\n\n            prev_loss = min(prev_loss, valid_loss)",
      "execution_count": 24,
      "outputs": []
    },
    {
      "metadata": {
        "trusted": true,
        "_uuid": "2adb12e11b51c129753a72217d92c2e1a95391b1"
      },
      "cell_type": "code",
      "source": "def triplet_loss(anchor_embed, pos_embed, neg_embed):\n    return F.cosine_similarity(anchor_embed, neg_embed) - F.cosine_similarity(anchor_embed, pos_embed)\n\n\nclass MyModel(nn.Module):\n    \n    def __init__(self, vocab_size, embed_size):\n        super(MyModel, self).__init__()\n        \n        self.embedding = nn.Embedding(vocab_size, embed_size)\n        tt.nn.init.uniform_(self.embedding.weight)\n        self.fc = nn.Linear(embed_size, 1)\n        \n    def branch(self, x):\n        x = self.embedding(x)\n        x = self.fc(x)\n        return x\n        \n    def forward(self, batch):\n        \n        anchor = new_text[batch[0]]\n        pos = new_text[batch[1]]\n        neg =  new_text[batch[2]]\n        \n        anchor = self.branch(anchor)\n        pos = self.branch(pos)\n        neg = self.branch(neg)\n        \n        x = triplet_loss(anchor, pos, neg)\n        #x = x.squeeze(1)\n        \n        return x\n",
      "execution_count": 25,
      "outputs": []
    },
    {
      "metadata": {
        "_uuid": "8f30dba27e39909795e3dd79d40e2672ab1aca9e"
      },
      "cell_type": "markdown",
      "source": "Так как мой компьютер не может справиться с Elmo или другими эмбедингами типа 300google, даже если минимально сократить данные, я импользую рандомные веса, что сильно сказывается на качестве. Насколько я понимаю, в данном случае нам бы хотелось, чтобы при обучении loss возрастал, так как это бы означало, что расстояние между anc и neg больше, чем между anc и pos, что нам и нужно. "
    },
    {
      "metadata": {
        "trusted": true,
        "_uuid": "1bc3dd21b84a97667d0c42827f17cb6cf0556da1"
      },
      "cell_type": "code",
      "source": "batch_size = 32\nembed_size = 100\n\nmodel = MyModel(len(vocab), embed_size)\n\noptimizer = optim.Adam(model.parameters())\nscheduler = optim.lr_scheduler.CosineAnnealingLR(optimizer, T_max=5)\n\nnn_train(model, train_x, valid_x, optimizer, n_epochs=3, scheduler=scheduler, early_stopping=2)\n",
      "execution_count": 26,
      "outputs": [
        {
          "output_type": "display_data",
          "data": {
            "text/plain": "HBox(children=(IntProgress(value=0, description='epoch 0', max=9051, style=ProgressStyle(description_width='in…",
            "application/vnd.jupyter.widget-view+json": {
              "version_major": 2,
              "version_minor": 0,
              "model_id": "a02a289a790247b28531fbf8d510e3c8"
            }
          },
          "metadata": {}
        },
        {
          "output_type": "stream",
          "text": "\nvalidation loss 0.00000\n",
          "name": "stdout"
        },
        {
          "output_type": "display_data",
          "data": {
            "text/plain": "HBox(children=(IntProgress(value=0, description='epoch 1', max=9051, style=ProgressStyle(description_width='in…",
            "application/vnd.jupyter.widget-view+json": {
              "version_major": 2,
              "version_minor": 0,
              "model_id": "255ed20305e24ef597a014dee308ed11"
            }
          },
          "metadata": {}
        },
        {
          "output_type": "stream",
          "text": "\nvalidation loss -1.83827\n",
          "name": "stdout"
        },
        {
          "output_type": "display_data",
          "data": {
            "text/plain": "HBox(children=(IntProgress(value=0, description='epoch 2', max=9051, style=ProgressStyle(description_width='in…",
            "application/vnd.jupyter.widget-view+json": {
              "version_major": 2,
              "version_minor": 0,
              "model_id": "c4082645dcd74099a77adef6f7f5383b"
            }
          },
          "metadata": {}
        },
        {
          "output_type": "stream",
          "text": "\nvalidation loss 1.48564\n",
          "name": "stdout"
        }
      ]
    },
    {
      "metadata": {
        "_uuid": "7d8a6c91c5cc7199b4de8c5259eb39b5acd50e0d"
      },
      "cell_type": "markdown",
      "source": "# KNN"
    },
    {
      "metadata": {
        "_uuid": "4ac8ca2b637e901ad2c11ee252b18a37c3c31f33"
      },
      "cell_type": "markdown",
      "source": "Собираем данные для кнн."
    },
    {
      "metadata": {
        "trusted": true,
        "_uuid": "ad6aba30dee99783b98d8ad7f29e9ca1e24ba907"
      },
      "cell_type": "code",
      "source": "import annoy\n\n\ndef knn(train_x, ntree, vec_len):\n\n    vector_length = vec_len\n    t = annoy.AnnoyIndex(vector_length)\n\n    for i, v in zip(range(len(train_x)), train_x):\n        emb = model.branch(new_text[v[0]]).squeeze(1)\n        t.add_item(i, emb)\n        \n    t.build(ntree)\n    return t",
      "execution_count": 31,
      "outputs": []
    },
    {
      "metadata": {
        "trusted": true,
        "_uuid": "d8fe74b073c5a17bc5b972474db91a5b52fbdc93"
      },
      "cell_type": "code",
      "source": "vec_len = len(model.branch(new_text[0]).squeeze(1))",
      "execution_count": 32,
      "outputs": []
    },
    {
      "metadata": {
        "trusted": true,
        "_uuid": "b3c8c64c4aff6638a8446b14a15908ed2978fc92"
      },
      "cell_type": "code",
      "source": "t = knn(train_x, 10, vec_len)",
      "execution_count": 33,
      "outputs": []
    },
    {
      "metadata": {
        "trusted": true,
        "_uuid": "ba1eeea7e73643b1cf41a9c01b7fa34ff14441fb"
      },
      "cell_type": "code",
      "source": "cos = nn.CosineSimilarity(dim=0)",
      "execution_count": 57,
      "outputs": []
    },
    {
      "metadata": {
        "trusted": true,
        "_uuid": "25f6b1c76b0eb8a17885046939ac664e7b7338ea"
      },
      "cell_type": "code",
      "source": "tt.tensor(t.get_item_vector(11))",
      "execution_count": 61,
      "outputs": [
        {
          "output_type": "execute_result",
          "execution_count": 61,
          "data": {
            "text/plain": "tensor([1.3862, 0.4346, 0.8941,  ..., 1.2750, 1.2750, 1.2750])"
          },
          "metadata": {}
        }
      ]
    },
    {
      "metadata": {
        "_uuid": "8e92aa9491cb627452c0fa8a5d951f681b08c4ce"
      },
      "cell_type": "markdown",
      "source": "Так как в формуле loss мы использовали косинусную близость, здесь ее тоже нужно использовать. Насколько я поняла, annoy не дает возможности выбрать коссинусную близость, поэтому мы возьмем какое-то кол-во соседей от annoy и уже посчитаем расстояния до них по нашей метрике."
    },
    {
      "metadata": {
        "trusted": true,
        "_uuid": "cb3d5011c190fbf3e2013cba9e809a13ea9c6021"
      },
      "cell_type": "code",
      "source": "def predict(test_x, model, n, t):\n\n    pred = []\n\n    for item in tqdm_notebook(test_x):\n        \n        item = model.branch(new_text[item]).squeeze(1)\n    \n        res = {}\n        for i in t.get_nns_by_vector(item, n):\n            res[i] = int(cos(tt.tensor(t.get_item_vector(i)), item))\n    \n        ind = sorted(res.items(), key=lambda kv: kv[1])\n        a = Counter([train_y[i[0]] for i in ind])\n        pred.append(max(a, key=a.get))\n    \n    return pred",
      "execution_count": 62,
      "outputs": []
    },
    {
      "metadata": {
        "trusted": true,
        "_uuid": "15f492439427848505aeaa714f46885c0366213d"
      },
      "cell_type": "code",
      "source": "pred = predict(test_x, model, 5, t)",
      "execution_count": 64,
      "outputs": [
        {
          "output_type": "display_data",
          "data": {
            "text/plain": "HBox(children=(IntProgress(value=0, max=7532), HTML(value='')))",
            "application/vnd.jupyter.widget-view+json": {
              "version_major": 2,
              "version_minor": 0,
              "model_id": "8c7190d240c54ec1ab626d8e2449581f"
            }
          },
          "metadata": {}
        },
        {
          "output_type": "stream",
          "text": "\n",
          "name": "stdout"
        }
      ]
    },
    {
      "metadata": {
        "trusted": true,
        "_uuid": "73715ba381f9c47007e547eca51669b286c1e235"
      },
      "cell_type": "code",
      "source": "from sklearn.metrics import accuracy_score\n\nacc = accuracy_score(test_y, pred)\n\nacc",
      "execution_count": 66,
      "outputs": [
        {
          "output_type": "execute_result",
          "execution_count": 66,
          "data": {
            "text/plain": "0.06837493361656931"
          },
          "metadata": {}
        }
      ]
    },
    {
      "metadata": {
        "_uuid": "c9efeeebd23f350a680586061943d47842e2f69b"
      },
      "cell_type": "markdown",
      "source": "Результат очень плохой, это равноценно, если бы мы рандомно определяли класс. Это связано с эмбэдингами. Возможно, при использовании Elmo, удастся получить лучший результат, однако у меня такой возможности нет.\n\nТо, что мы можем регулировать сейчас - кол-во соседей. Попробуем разные значения."
    },
    {
      "metadata": {
        "trusted": true,
        "_uuid": "94c00f54911104dbbbf28f0f7b74b94e6aba5c01"
      },
      "cell_type": "code",
      "source": "res = {}\n\nfor i in (1, 3, 10, 20):\n    pred = predict(test_x, model, i, t)\n    acc = accuracy_score(test_y, pred)\n    print(i, acc)\n    res[i] = acc",
      "execution_count": 69,
      "outputs": [
        {
          "output_type": "display_data",
          "data": {
            "text/plain": "HBox(children=(IntProgress(value=0, max=7532), HTML(value='')))",
            "application/vnd.jupyter.widget-view+json": {
              "version_major": 2,
              "version_minor": 0,
              "model_id": "c905a3b7ff8d41c7a018ee24c4119aaf"
            }
          },
          "metadata": {}
        },
        {
          "output_type": "stream",
          "text": "1 0.0681093998937865\n",
          "name": "stdout"
        },
        {
          "output_type": "display_data",
          "data": {
            "text/plain": "HBox(children=(IntProgress(value=0, max=7532), HTML(value='')))",
            "application/vnd.jupyter.widget-view+json": {
              "version_major": 2,
              "version_minor": 0,
              "model_id": "9009046e26154c8b90ec453b6affd2e9"
            }
          },
          "metadata": {}
        },
        {
          "output_type": "stream",
          "text": "3 0.07089750398300584\n",
          "name": "stdout"
        },
        {
          "output_type": "display_data",
          "data": {
            "text/plain": "HBox(children=(IntProgress(value=0, max=7532), HTML(value='')))",
            "application/vnd.jupyter.widget-view+json": {
              "version_major": 2,
              "version_minor": 0,
              "model_id": "bca4351c97bd4c669baf481905768e9a"
            }
          },
          "metadata": {}
        },
        {
          "output_type": "stream",
          "text": "10 0.06983536909187467\n",
          "name": "stdout"
        },
        {
          "output_type": "display_data",
          "data": {
            "text/plain": "HBox(children=(IntProgress(value=0, max=7532), HTML(value='')))",
            "application/vnd.jupyter.widget-view+json": {
              "version_major": 2,
              "version_minor": 0,
              "model_id": "c34e3e7a7f86452da168ccf9dc10a46a"
            }
          },
          "metadata": {}
        },
        {
          "output_type": "error",
          "ename": "KeyboardInterrupt",
          "evalue": "",
          "traceback": [
            "\u001b[0;31m---------------------------------------------------------------------------\u001b[0m",
            "\u001b[0;31mKeyboardInterrupt\u001b[0m                         Traceback (most recent call last)",
            "\u001b[0;32m<ipython-input-69-7ecd41e26ff8>\u001b[0m in \u001b[0;36m<module>\u001b[0;34m()\u001b[0m\n\u001b[1;32m      2\u001b[0m \u001b[0;34m\u001b[0m\u001b[0m\n\u001b[1;32m      3\u001b[0m \u001b[0;32mfor\u001b[0m \u001b[0mi\u001b[0m \u001b[0;32min\u001b[0m \u001b[0;34m(\u001b[0m\u001b[0;36m1\u001b[0m\u001b[0;34m,\u001b[0m \u001b[0;36m3\u001b[0m\u001b[0;34m,\u001b[0m \u001b[0;36m10\u001b[0m\u001b[0;34m,\u001b[0m \u001b[0;36m20\u001b[0m\u001b[0;34m)\u001b[0m\u001b[0;34m:\u001b[0m\u001b[0;34m\u001b[0m\u001b[0m\n\u001b[0;32m----> 4\u001b[0;31m     \u001b[0mpred\u001b[0m \u001b[0;34m=\u001b[0m \u001b[0mpredict\u001b[0m\u001b[0;34m(\u001b[0m\u001b[0mtest_x\u001b[0m\u001b[0;34m,\u001b[0m \u001b[0mmodel\u001b[0m\u001b[0;34m,\u001b[0m \u001b[0mi\u001b[0m\u001b[0;34m,\u001b[0m \u001b[0mt\u001b[0m\u001b[0;34m)\u001b[0m\u001b[0;34m\u001b[0m\u001b[0m\n\u001b[0m\u001b[1;32m      5\u001b[0m     \u001b[0macc\u001b[0m \u001b[0;34m=\u001b[0m \u001b[0maccuracy_score\u001b[0m\u001b[0;34m(\u001b[0m\u001b[0mtest_y\u001b[0m\u001b[0;34m,\u001b[0m \u001b[0mpred\u001b[0m\u001b[0;34m)\u001b[0m\u001b[0;34m\u001b[0m\u001b[0m\n\u001b[1;32m      6\u001b[0m     \u001b[0mprint\u001b[0m\u001b[0;34m(\u001b[0m\u001b[0mi\u001b[0m\u001b[0;34m,\u001b[0m \u001b[0macc\u001b[0m\u001b[0;34m)\u001b[0m\u001b[0;34m\u001b[0m\u001b[0m\n",
            "\u001b[0;32m<ipython-input-62-fad5dda39ce5>\u001b[0m in \u001b[0;36mpredict\u001b[0;34m(test_x, model, n, t)\u001b[0m\n\u001b[1;32m      8\u001b[0m \u001b[0;34m\u001b[0m\u001b[0m\n\u001b[1;32m      9\u001b[0m         \u001b[0mres\u001b[0m \u001b[0;34m=\u001b[0m \u001b[0;34m{\u001b[0m\u001b[0;34m}\u001b[0m\u001b[0;34m\u001b[0m\u001b[0m\n\u001b[0;32m---> 10\u001b[0;31m         \u001b[0;32mfor\u001b[0m \u001b[0mi\u001b[0m \u001b[0;32min\u001b[0m \u001b[0mt\u001b[0m\u001b[0;34m.\u001b[0m\u001b[0mget_nns_by_vector\u001b[0m\u001b[0;34m(\u001b[0m\u001b[0mitem\u001b[0m\u001b[0;34m,\u001b[0m \u001b[0mn\u001b[0m\u001b[0;34m)\u001b[0m\u001b[0;34m:\u001b[0m\u001b[0;34m\u001b[0m\u001b[0m\n\u001b[0m\u001b[1;32m     11\u001b[0m             \u001b[0mres\u001b[0m\u001b[0;34m[\u001b[0m\u001b[0mi\u001b[0m\u001b[0;34m]\u001b[0m \u001b[0;34m=\u001b[0m \u001b[0mint\u001b[0m\u001b[0;34m(\u001b[0m\u001b[0mcos\u001b[0m\u001b[0;34m(\u001b[0m\u001b[0mtt\u001b[0m\u001b[0;34m.\u001b[0m\u001b[0mtensor\u001b[0m\u001b[0;34m(\u001b[0m\u001b[0mt\u001b[0m\u001b[0;34m.\u001b[0m\u001b[0mget_item_vector\u001b[0m\u001b[0;34m(\u001b[0m\u001b[0mi\u001b[0m\u001b[0;34m)\u001b[0m\u001b[0;34m)\u001b[0m\u001b[0;34m,\u001b[0m \u001b[0mitem\u001b[0m\u001b[0;34m)\u001b[0m\u001b[0;34m)\u001b[0m\u001b[0;34m\u001b[0m\u001b[0m\n\u001b[1;32m     12\u001b[0m \u001b[0;34m\u001b[0m\u001b[0m\n",
            "\u001b[0;31mKeyboardInterrupt\u001b[0m: "
          ]
        }
      ]
    },
    {
      "metadata": {
        "trusted": true,
        "_uuid": "5da5eb41a5d9b7d14fdcf6a5848e91db5560defe"
      },
      "cell_type": "code",
      "source": "",
      "execution_count": null,
      "outputs": []
    },
    {
      "metadata": {
        "trusted": true,
        "_uuid": "d2c637fcf5a7a61dca9b8e7ede92757af1d8b9d4"
      },
      "cell_type": "code",
      "source": "def predict2(test_x, model, n, t, k):\n\n    pred = []\n\n    for item in tqdm_notebook(test_x):\n        \n        item = model.branch(new_text[item]).squeeze(1)\n    \n        res = {}\n        for i in t.get_nns_by_vector(item, k):\n            res[i] = int(cos(tt.tensor(t.get_item_vector(i)), item))\n    \n        ind = sorted(res.items(), key=lambda kv: kv[1])[:n]\n        a = Counter([train_y[i[0]] for i in ind])\n        pred.append(max(a, key=a.get))\n    \n    return pred",
      "execution_count": 70,
      "outputs": []
    },
    {
      "metadata": {
        "trusted": true,
        "_uuid": "33f5c4ee03a39ae1e70c083643126429bbb40a3f"
      },
      "cell_type": "code",
      "source": "res = {}\n\nfor k in (50, 100):\n    pred = predict2(test_x, model, k, t, 3)\n    acc = accuracy_score(test_y, pred)\n    print(k, acc)\n    res[k] = acc",
      "execution_count": null,
      "outputs": [
        {
          "output_type": "display_data",
          "data": {
            "text/plain": "HBox(children=(IntProgress(value=0, max=7532), HTML(value='')))",
            "application/vnd.jupyter.widget-view+json": {
              "version_major": 2,
              "version_minor": 0,
              "model_id": "46e6b0eb1e7a43efa9a4346abfb21ae2"
            }
          },
          "metadata": {}
        }
      ]
    },
    {
      "metadata": {
        "trusted": true,
        "_uuid": "b7fd30cb4b19052970d66ea3b50b67e074ded377"
      },
      "cell_type": "code",
      "source": "",
      "execution_count": null,
      "outputs": []
    }
  ],
  "metadata": {
    "kernelspec": {
      "display_name": "Python 3",
      "language": "python",
      "name": "python3"
    },
    "language_info": {
      "name": "python",
      "version": "3.6.6",
      "mimetype": "text/x-python",
      "codemirror_mode": {
        "name": "ipython",
        "version": 3
      },
      "pygments_lexer": "ipython3",
      "nbconvert_exporter": "python",
      "file_extension": ".py"
    }
  },
  "nbformat": 4,
  "nbformat_minor": 1
}